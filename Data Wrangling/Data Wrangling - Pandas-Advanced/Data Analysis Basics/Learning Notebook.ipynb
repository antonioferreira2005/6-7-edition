{
 "cells": [
  {
   "cell_type": "markdown",
   "id": "6ea2af7e",
   "metadata": {},
   "source": [
    "# What this notebook teaches\n",
    "\n",
    "1. Common pandas operations: **.unique**, **.value_counts**, **.where**\n",
    "2. Common numerical operations with pandas: **.mean**, **.sum**, **.max**, **.idxmax**, **.min**, **.idxmin**, **.diff**\n",
    "3. masking in pandas : the basics\n",
    "4. plotting with pandas: **bar**, **line** and **histogram** plots\n"
   ]
  },
  {
   "cell_type": "markdown",
   "id": "f7fbbc63",
   "metadata": {},
   "source": [
    "# Options"
   ]
  },
  {
   "cell_type": "code",
   "execution_count": null,
   "id": "4553e9e5",
   "metadata": {},
   "outputs": [],
   "source": [
    "from IPython.core.interactiveshell import InteractiveShell\n",
    "InteractiveShell.ast_node_interactivity = \"all\""
   ]
  },
  {
   "cell_type": "markdown",
   "id": "fde89700",
   "metadata": {},
   "source": [
    "# Imports"
   ]
  },
  {
   "cell_type": "code",
   "execution_count": null,
   "id": "e015b5f9",
   "metadata": {},
   "outputs": [],
   "source": [
    "import os\n",
    "import pandas as pd\n",
    "import matplotlib.pyplot as plt"
   ]
  },
  {
   "cell_type": "markdown",
   "id": "4a9dfc34",
   "metadata": {},
   "source": [
    "# Read the data"
   ]
  },
  {
   "cell_type": "code",
   "execution_count": null,
   "id": "81ddb58e",
   "metadata": {},
   "outputs": [],
   "source": [
    "local_path = os.path.join('data', 'global-data-on-sustainable-energy.csv')\n",
    "url = 'https://raw.githubusercontent.com/samsung-ai-course/6-7-edition/refs/heads/main/Data%20Wrangling/Data%20Wrangling%20-%20Pandas-Advanced/Data%20Analysis%20Basics/data/global-data-on-sustainable-energy.csv'\n",
    "\n",
    "df = pd.read_csv(url)\n",
    "df.head(3)\n",
    "df.shape"
   ]
  },
  {
   "cell_type": "markdown",
   "id": "cb91c6f0",
   "metadata": {},
   "source": [
    "# Documentation"
   ]
  },
  {
   "cell_type": "markdown",
   "id": "74945c4a",
   "metadata": {},
   "source": [
    "About the Dataset: \n",
    "\n",
    "The data is collected from multiple sources including the World Bank, the International Energy Agency, and ourworldindata.org. [source](https://www.kaggle.com/datasets/anshtanwar/global-data-on-sustainable-energy)\n",
    "\n",
    "- **Entity**: The name of the country or region for which the data is reported.\n",
    "- **Year**: The year for which the data is reported, ranging from 2000 to 2020.\n",
    "- **Access to electricity (% of population)**: The percentage of population with access to electricity.\n",
    "- **Access to clean fuels for cooking (% of population)**: The percentage of the population with primary reliance on clean fuels.\n",
    "- **Renewable-electricity-generating-capacity-per-capita**: Installed Renewable energy capacity per person\n",
    "- **Financial flows to developing countries (US \\$):** Aid and assistance from developed countries for clean energy projects.\n",
    "- **Renewable energy share in total final energy consumption (\\%):** Percentage of renewable energy in final energy consumption.\n",
    "- **Electricity from fossil fuels (TWh):** Electricity generated from fossil fuels (coal, oil, gas) in terawatt-hours.\n",
    "- **Electricity from nuclear (TWh):** Electricity generated from nuclear power in terawatt-hours.\n",
    "- **Electricity from renewables (TWh):** Electricity generated from renewable sources (hydro, solar, wind, etc.) in terawatt-hours.\n",
    "- **Low-carbon electricity (\\% electricity):** Percentage of electricity from low-carbon sources (nuclear and renewables).\n",
    "- **Primary energy consumption per capita (kWh/person):** Energy consumption per person in kilowatt-hours.\n",
    "- **Energy intensity level of primary energy (MJ/\\$2011 PPP GDP):** Energy use per unit of GDP at purchasing power parity.\n",
    "- **Value_co2_emissions (metric tons per capita):** Carbon dioxide emissions per person in metric tons.\n",
    "- **Renewables (\\% equivalent primary energy):** Equivalent primary energy that is derived from renewable sources.\n",
    "- **GDP growth (annual \\%):** Annual GDP growth rate based on constant local currency.\n",
    "- **GDP per capita:** Gross domestic product per person.\n",
    "- **Density (P/Km2):** Population density in persons per square kilometer.\n",
    "- **Land Area (Km2):** Total land area in square kilometers.\n",
    "- **Latitude:** Latitude of the country's centroid in decimal degrees.\n",
    "- **Longitude:** Longitude of the country's centroid in decimal degrees."
   ]
  },
  {
   "cell_type": "markdown",
   "id": "bf05bc71",
   "metadata": {},
   "source": [
    "# Let's begin"
   ]
  },
  {
   "cell_type": "markdown",
   "id": "f4aeff15",
   "metadata": {},
   "source": [
    "Seems to be data about countries, which countries are we talking about?"
   ]
  },
  {
   "cell_type": "code",
   "execution_count": null,
   "id": "48e6a980",
   "metadata": {},
   "outputs": [],
   "source": [
    "df['Entity'].unique()"
   ]
  },
  {
   "cell_type": "markdown",
   "id": "fb36d198",
   "metadata": {},
   "source": [
    "A lot of them apparently, how many exactly?"
   ]
  },
  {
   "cell_type": "code",
   "execution_count": null,
   "id": "d1d5f75b",
   "metadata": {},
   "outputs": [],
   "source": [
    "df['Entity'].nunique()"
   ]
  },
  {
   "cell_type": "markdown",
   "id": "a96a0d66",
   "metadata": {},
   "source": [
    "Also what is the timeframe we have here?"
   ]
  },
  {
   "cell_type": "code",
   "execution_count": null,
   "id": "6a04adee",
   "metadata": {},
   "outputs": [],
   "source": [
    "df['Year'].unique()"
   ]
  },
  {
   "cell_type": "markdown",
   "id": "a569b3d5",
   "metadata": {},
   "source": [
    "How many data for each country?"
   ]
  },
  {
   "cell_type": "code",
   "execution_count": null,
   "id": "3c3d5c7c",
   "metadata": {},
   "outputs": [],
   "source": [
    "df['Entity'].value_counts()"
   ]
  },
  {
   "cell_type": "markdown",
   "id": "cc5dd379",
   "metadata": {},
   "source": [
    "It seems most countries have 21 datapoints which are probably one for each year. Some countries don't have all 21 datapoints though"
   ]
  },
  {
   "cell_type": "code",
   "execution_count": null,
   "id": "1a24eaad",
   "metadata": {},
   "outputs": [],
   "source": [
    "def check_if_less_than_21(value):\n",
    "    return value < 21"
   ]
  },
  {
   "cell_type": "code",
   "execution_count": null,
   "id": "fa738811",
   "metadata": {},
   "outputs": [],
   "source": [
    "df['Entity'].value_counts().where(lambda value: value < 21).dropna()\n",
    "#df['Entity'].value_counts().where(check_if_less_than_21).dropna() # same thing"
   ]
  },
  {
   "cell_type": "markdown",
   "id": "b9c90b34",
   "metadata": {},
   "source": [
    "Countries that don't have the full data: Serbia, Montenegro, South Sudan, French Guiana"
   ]
  },
  {
   "cell_type": "markdown",
   "id": "66e69f45",
   "metadata": {},
   "source": [
    "There is another way to count how many countries have the full 21 datapoints and how many have other values"
   ]
  },
  {
   "cell_type": "code",
   "execution_count": null,
   "id": "ae04e7a8",
   "metadata": {},
   "outputs": [],
   "source": [
    "df['Entity'].value_counts().value_counts()"
   ]
  },
  {
   "cell_type": "markdown",
   "id": "35493dbb",
   "metadata": {},
   "source": [
    "# Math operations"
   ]
  },
  {
   "cell_type": "markdown",
   "id": "91489a1f",
   "metadata": {},
   "source": [
    "## Mean"
   ]
  },
  {
   "cell_type": "markdown",
   "id": "5486ff26",
   "metadata": {},
   "source": [
    "What is the % population with access to electricity, on average?"
   ]
  },
  {
   "cell_type": "code",
   "execution_count": null,
   "id": "90148a67",
   "metadata": {},
   "outputs": [],
   "source": [
    "df.loc[:,'Access to electricity (% of population)'].mean()"
   ]
  },
  {
   "cell_type": "markdown",
   "id": "b2f8cef0",
   "metadata": {},
   "source": [
    "## Sum"
   ]
  },
  {
   "cell_type": "markdown",
   "id": "f6ce4ec0",
   "metadata": {},
   "source": [
    "In total how much $ did these countries send to assist developing countries for clean energy projects?"
   ]
  },
  {
   "cell_type": "code",
   "execution_count": null,
   "id": "210f42d8",
   "metadata": {},
   "outputs": [],
   "source": [
    "df.loc[:,'Financial flows to developing countries (US $)'].sum()"
   ]
  },
  {
   "cell_type": "markdown",
   "id": "89528ef0",
   "metadata": {},
   "source": [
    "Cool! Let's check this value in billions"
   ]
  },
  {
   "cell_type": "code",
   "execution_count": null,
   "id": "ac063dff",
   "metadata": {},
   "outputs": [],
   "source": [
    "df.loc[:,'Financial flows to developing countries (US $)'].sum() / 1_000_000_000"
   ]
  },
  {
   "cell_type": "markdown",
   "id": "56e6e488",
   "metadata": {},
   "source": [
    "$147 billion throughout 2000-2020!"
   ]
  },
  {
   "cell_type": "markdown",
   "id": "7701db53",
   "metadata": {},
   "source": [
    "----"
   ]
  },
  {
   "cell_type": "markdown",
   "id": "25217ddc",
   "metadata": {},
   "source": [
    "## Max, idxmax, Min, idxmin"
   ]
  },
  {
   "cell_type": "markdown",
   "id": "00216971",
   "metadata": {},
   "source": [
    "What is the Country-year that had the most electricity generated from nuclear power?"
   ]
  },
  {
   "cell_type": "code",
   "execution_count": null,
   "id": "c6e87b70",
   "metadata": {},
   "outputs": [],
   "source": [
    "df['Electricity from nuclear (TWh)'].max()"
   ]
  },
  {
   "cell_type": "markdown",
   "id": "bed6eb0e",
   "metadata": {},
   "source": [
    "Ok this just returned the value of the max, but i actually want to know the Country and respective year where this happened"
   ]
  },
  {
   "cell_type": "code",
   "execution_count": null,
   "id": "f939c8f4",
   "metadata": {},
   "outputs": [],
   "source": [
    "index = df['Electricity from nuclear (TWh)'].idxmax()\n",
    "index"
   ]
  },
  {
   "cell_type": "code",
   "execution_count": null,
   "id": "a07215c9",
   "metadata": {},
   "outputs": [],
   "source": [
    "df.loc[index,['Entity','Year','Electricity from nuclear (TWh)']]"
   ]
  },
  {
   "cell_type": "markdown",
   "id": "41fce06d",
   "metadata": {},
   "source": [
    "Wanna do all that in a single step?"
   ]
  },
  {
   "cell_type": "code",
   "execution_count": null,
   "id": "d6959384",
   "metadata": {},
   "outputs": [],
   "source": [
    "df.loc[df['Electricity from nuclear (TWh)'].idxmax(),\n",
    "       ['Entity','Year','Electricity from nuclear (TWh)']]"
   ]
  },
  {
   "cell_type": "markdown",
   "id": "50aa0993",
   "metadata": {},
   "source": [
    "----"
   ]
  },
  {
   "cell_type": "markdown",
   "id": "60979979",
   "metadata": {},
   "source": [
    "Country with the least amount of data in this dataset?"
   ]
  },
  {
   "cell_type": "code",
   "execution_count": null,
   "id": "76252915",
   "metadata": {},
   "outputs": [],
   "source": [
    "df['Entity'].value_counts().min()"
   ]
  },
  {
   "cell_type": "markdown",
   "id": "e9f98e85",
   "metadata": {},
   "source": [
    "Oops ran into the same problem again. The minimum is 1, but which country does it refer to?"
   ]
  },
  {
   "cell_type": "code",
   "execution_count": null,
   "id": "5dae8896",
   "metadata": {},
   "outputs": [],
   "source": [
    "df['Entity'].value_counts().idxmin()"
   ]
  },
  {
   "cell_type": "markdown",
   "id": "d725d181",
   "metadata": {},
   "source": [
    "Great!"
   ]
  },
  {
   "cell_type": "markdown",
   "id": "578fa110",
   "metadata": {},
   "source": [
    "## A lot more operations\n",
    "\n",
    "\n",
    "You can check other math operations you can do on Pandas [over here](https://pandas.pydata.org/pandas-docs/stable/user_guide/basics.html#descriptive-statistics)"
   ]
  },
  {
   "cell_type": "markdown",
   "id": "4a104750",
   "metadata": {},
   "source": [
    "# Masking"
   ]
  },
  {
   "cell_type": "markdown",
   "id": "bd51fc66",
   "metadata": {},
   "source": [
    "This is cool and all but we can only compute these stats for the whole dataset"
   ]
  },
  {
   "cell_type": "markdown",
   "id": "ad5a5496",
   "metadata": {},
   "source": [
    "![](media/will.jpeg)"
   ]
  },
  {
   "cell_type": "code",
   "execution_count": null,
   "id": "f451f2f5",
   "metadata": {},
   "outputs": [],
   "source": [
    "df['Entity'].unique()[:5]"
   ]
  },
  {
   "cell_type": "code",
   "execution_count": null,
   "id": "1dc1cdb3",
   "metadata": {},
   "outputs": [],
   "source": [
    "angola_mask = df['Entity'] == 'Angola'"
   ]
  },
  {
   "cell_type": "markdown",
   "id": "c7a8f649",
   "metadata": {},
   "source": [
    "Let's see what we have here"
   ]
  },
  {
   "cell_type": "code",
   "execution_count": null,
   "id": "26312d1a",
   "metadata": {},
   "outputs": [],
   "source": [
    "angola_mask"
   ]
  },
  {
   "cell_type": "code",
   "execution_count": null,
   "id": "3139c56b",
   "metadata": {},
   "outputs": [],
   "source": [
    "angola_mask.value_counts()"
   ]
  },
  {
   "cell_type": "markdown",
   "id": "e3bbbeaa",
   "metadata": {},
   "source": [
    "- A series with a bunch of Falses and some Trues\n",
    "- The **True** values are for the rows where the condition above is ... well ... True!"
   ]
  },
  {
   "cell_type": "markdown",
   "id": "fc258dbd",
   "metadata": {},
   "source": [
    "![media/what.jpeg](https://i.imgflip.com/98w3rl.jpg)"
   ]
  },
  {
   "cell_type": "code",
   "execution_count": null,
   "id": "386a8c8a",
   "metadata": {},
   "outputs": [],
   "source": [
    "df.loc[angola_mask,:]"
   ]
  },
  {
   "cell_type": "markdown",
   "id": "da5861db",
   "metadata": {},
   "source": [
    "Now we can ask questions for specific subgroups of our data!"
   ]
  },
  {
   "cell_type": "markdown",
   "id": "c8091aa0",
   "metadata": {},
   "source": [
    "Let's see what we can learn about Angola here:"
   ]
  },
  {
   "cell_type": "markdown",
   "id": "0439fc81",
   "metadata": {},
   "source": [
    "How did the Access to electricity evolved throughout the years for Angola?"
   ]
  },
  {
   "cell_type": "code",
   "execution_count": null,
   "id": "f37524ae",
   "metadata": {},
   "outputs": [],
   "source": [
    "df.loc[angola_mask,'Access to electricity (% of population)'].diff()"
   ]
  },
  {
   "cell_type": "markdown",
   "id": "865eacc4",
   "metadata": {},
   "source": [
    "`.diff` will:\n",
    "- compute differences for each row\n",
    "- Will have Nan on the first row because there's no previous row to compare it to"
   ]
  },
  {
   "cell_type": "markdown",
   "id": "fb3c79b6",
   "metadata": {},
   "source": [
    "would be cool to assign the year as index here to understand better this analysis"
   ]
  },
  {
   "cell_type": "code",
   "execution_count": null,
   "id": "3e823274",
   "metadata": {},
   "outputs": [],
   "source": [
    "df.loc[angola_mask,:].set_index('Year')['Access to electricity (% of population)'].diff()"
   ]
  },
  {
   "cell_type": "markdown",
   "id": "0b87d30a",
   "metadata": {},
   "source": [
    "Most of the years, we have a positive difference which means more and more people in Angola have been getting access to electricity"
   ]
  },
  {
   "cell_type": "code",
   "execution_count": null,
   "id": "e614d1b8",
   "metadata": {},
   "outputs": [],
   "source": [
    "(df\n",
    " .loc[angola_mask,'Access to electricity (% of population)']\n",
    " .diff()\n",
    " .sum()\n",
    ")"
   ]
  },
  {
   "cell_type": "markdown",
   "id": "6c0585f7",
   "metadata": {},
   "source": [
    "From 2000 till 2020, Angola enabled access to an additional 22% of its population!"
   ]
  },
  {
   "cell_type": "code",
   "execution_count": null,
   "id": "b42fea5b",
   "metadata": {},
   "outputs": [],
   "source": [
    "# another way of getting the same result\n",
    "\n",
    "df.loc[angola_mask, 'Access to electricity (% of population)'].iloc[-1] - df.loc[angola_mask, 'Access to electricity (% of population)'].iloc[0]"
   ]
  },
  {
   "cell_type": "markdown",
   "id": "0cef45e3",
   "metadata": {},
   "source": [
    "# Plotting"
   ]
  },
  {
   "cell_type": "markdown",
   "id": "7571cd26",
   "metadata": {},
   "source": [
    "Now, this type of analysis is begging for a visualization"
   ]
  },
  {
   "cell_type": "code",
   "execution_count": null,
   "id": "0e991872",
   "metadata": {},
   "outputs": [],
   "source": [
    "angola_evolution_electricity_access = df.loc[angola_mask].set_index('Year').loc[:,'Access to electricity (% of population)'].diff()\n",
    "angola_evolution_electricity_access.head(5)"
   ]
  },
  {
   "cell_type": "markdown",
   "id": "9d92d18e",
   "metadata": {},
   "source": [
    "## bar plots"
   ]
  },
  {
   "cell_type": "code",
   "execution_count": null,
   "id": "d0cd9424",
   "metadata": {},
   "outputs": [],
   "source": [
    "angola_evolution_electricity_access.plot.bar(title='Analysis of Angola\\'s population access to electricity',xlabel='Year', ylabel='difference in % points from previous year');"
   ]
  },
  {
   "cell_type": "markdown",
   "id": "ab6787a6",
   "metadata": {},
   "source": [
    "## Line plots"
   ]
  },
  {
   "cell_type": "markdown",
   "id": "da769f00",
   "metadata": {},
   "source": [
    "Line plots are particularly useful to visualize something across time"
   ]
  },
  {
   "cell_type": "markdown",
   "id": "5cda2279",
   "metadata": {},
   "source": [
    "Let's visualize the growth of this `electricity_access` in another way"
   ]
  },
  {
   "cell_type": "code",
   "execution_count": null,
   "id": "ddfe77c6",
   "metadata": {},
   "outputs": [],
   "source": [
    "(df\n",
    " .loc[angola_mask]\n",
    " .set_index('Year')\n",
    " .loc[:,'Access to electricity (% of population)']\n",
    " .plot(title='(Angola) Growth in % population with access to electricity', ylabel='% population')\n",
    ")"
   ]
  },
  {
   "cell_type": "markdown",
   "id": "6856d002",
   "metadata": {},
   "source": [
    "Now the x axis isn't perfect, there's a lot of ways to solve this situation which you will be using google, stackOverflow and chatgpt most of the time to solve, but here is one simple solution"
   ]
  },
  {
   "cell_type": "code",
   "execution_count": null,
   "id": "82bdccb0",
   "metadata": {},
   "outputs": [],
   "source": [
    "(df\n",
    " .loc[angola_mask]\n",
    " .astype({'Year':'str'})\n",
    " .set_index('Year')\n",
    " .loc[:,'Access to electricity (% of population)']\n",
    " .plot(title='(Angola) Growth in % population with access to electricity', ylabel='% population')\n",
    ")"
   ]
  },
  {
   "cell_type": "markdown",
   "id": "a6dafaf6",
   "metadata": {},
   "source": [
    "## histogram plots\n",
    "\n",
    "Density plots are very useful because they give you a lot more information about a distribution than just its average"
   ]
  },
  {
   "cell_type": "markdown",
   "id": "e5227317",
   "metadata": {},
   "source": [
    "What is the distribution of co2 emissions in the year 2010?"
   ]
  },
  {
   "cell_type": "code",
   "execution_count": null,
   "id": "02cbeaf9",
   "metadata": {},
   "outputs": [],
   "source": [
    "mask_2010 = df['Year'] == 2010"
   ]
  },
  {
   "cell_type": "markdown",
   "id": "e4df06cc",
   "metadata": {},
   "source": [
    "before the plot, `.describe` is a quick way to also have a notion of a distribution"
   ]
  },
  {
   "cell_type": "code",
   "execution_count": null,
   "id": "18505d73",
   "metadata": {},
   "outputs": [],
   "source": [
    "df.loc[mask_2010,'Value_co2_emissions_kt_by_country'].describe().astype(int)"
   ]
  },
  {
   "cell_type": "markdown",
   "id": "1bce68f7",
   "metadata": {},
   "source": [
    "But we can also plot to get more information about the distribution"
   ]
  },
  {
   "cell_type": "code",
   "execution_count": null,
   "id": "ef7ee868",
   "metadata": {},
   "outputs": [],
   "source": [
    "df.loc[mask_2010,'Electricity from renewables (TWh)'].plot.hist()"
   ]
  },
  {
   "cell_type": "markdown",
   "id": "0fd67118",
   "metadata": {},
   "source": [
    "You can control the number of bins"
   ]
  },
  {
   "cell_type": "code",
   "execution_count": null,
   "id": "337b25d6",
   "metadata": {},
   "outputs": [],
   "source": [
    "df.loc[mask_2010,'Electricity from renewables (TWh)'].plot.hist(bins = range(0,800+1,20))"
   ]
  },
  {
   "cell_type": "markdown",
   "id": "a197778b",
   "metadata": {},
   "source": [
    "or if you don't want to focus on the outliers"
   ]
  },
  {
   "cell_type": "code",
   "execution_count": null,
   "id": "1f35e0d1",
   "metadata": {},
   "outputs": [],
   "source": [
    "df.loc[mask_2010,'Electricity from renewables (TWh)'].plot.hist(bins = range(0,200+1,10))"
   ]
  },
  {
   "cell_type": "markdown",
   "id": "b6a7f180",
   "metadata": {},
   "source": [
    "<font style=\"position:absolute; top:2em;opacity:0;\"></font>"
   ]
  },
  {
   "cell_type": "markdown",
   "id": "ee20af8d",
   "metadata": {},
   "source": [
    "![](media/dog.jpeg)"
   ]
  },
  {
   "cell_type": "markdown",
   "id": "3927570b",
   "metadata": {},
   "source": [
    "Now proceed to the exercises notebook"
   ]
  }
 ],
 "metadata": {
  "kernelspec": {
   "display_name": "MLCatolica24",
   "language": "python",
   "name": "python3"
  },
  "language_info": {
   "codemirror_mode": {
    "name": "ipython",
    "version": 3
   },
   "file_extension": ".py",
   "mimetype": "text/x-python",
   "name": "python",
   "nbconvert_exporter": "python",
   "pygments_lexer": "ipython3",
   "version": "3.12.3"
  }
 },
 "nbformat": 4,
 "nbformat_minor": 5
}
