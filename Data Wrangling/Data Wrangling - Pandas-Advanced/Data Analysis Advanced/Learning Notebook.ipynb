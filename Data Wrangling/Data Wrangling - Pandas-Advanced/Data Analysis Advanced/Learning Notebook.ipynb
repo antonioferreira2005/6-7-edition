{
 "cells": [
  {
   "cell_type": "markdown",
   "id": "6ea2af7e",
   "metadata": {},
   "source": [
    "# What this notebook teaches\n",
    "\n",
    "1. Advanced `Masking`: combining multiple masks\n",
    "2. `Apply` operation: for **transforming** columns and **creating** new ones\n",
    "3. `Groupby` operation\n",
    "4. More `plotting` functionalities"
   ]
  },
  {
   "cell_type": "markdown",
   "id": "f7fbbc63",
   "metadata": {},
   "source": [
    "# Options"
   ]
  },
  {
   "cell_type": "code",
   "execution_count": null,
   "id": "4553e9e5",
   "metadata": {},
   "outputs": [],
   "source": [
    "from IPython.core.interactiveshell import InteractiveShell\n",
    "InteractiveShell.ast_node_interactivity = \"all\""
   ]
  },
  {
   "cell_type": "markdown",
   "id": "fde89700",
   "metadata": {},
   "source": [
    "# Imports"
   ]
  },
  {
   "cell_type": "code",
   "execution_count": null,
   "id": "e015b5f9",
   "metadata": {},
   "outputs": [],
   "source": [
    "import os\n",
    "import pandas as pd\n",
    "import matplotlib.pyplot as plt"
   ]
  },
  {
   "cell_type": "markdown",
   "id": "4a9dfc34",
   "metadata": {},
   "source": [
    "# Read the data"
   ]
  },
  {
   "cell_type": "code",
   "execution_count": null,
   "id": "81ddb58e",
   "metadata": {},
   "outputs": [],
   "source": [
    "local_path = os.path.join('data/global-data-on-sustainable-energy.csv')\n",
    "url = \"https://raw.githubusercontent.com/samsung-ai-course/6-7-edition/refs/heads/main/Data%20Wrangling/Data%20Wrangling%20-%20Pandas-Advanced/Data%20Analysis%20Advanced/data/global-data-on-sustainable-energy.csv\"\n",
    "df = pd.read_csv(url)\n",
    "df.head(3)\n",
    "df.shape"
   ]
  },
  {
   "cell_type": "markdown",
   "id": "bf05bc71",
   "metadata": {},
   "source": [
    "# Advanced Masking"
   ]
  },
  {
   "cell_type": "markdown",
   "id": "20a3516f",
   "metadata": {},
   "source": [
    "![](media/dino.jpeg)"
   ]
  },
  {
   "cell_type": "markdown",
   "id": "736d67c1",
   "metadata": {},
   "source": [
    "## Using `&` (AND) operator"
   ]
  },
  {
   "cell_type": "markdown",
   "id": "0d0de034",
   "metadata": {},
   "source": [
    "Let's say i want:\n",
    "1. `United States`\n",
    "2. from `2012`\n"
   ]
  },
  {
   "cell_type": "code",
   "execution_count": null,
   "id": "7d3e56c3",
   "metadata": {},
   "outputs": [],
   "source": [
    "mask_us = df['Entity'] == 'United States'\n",
    "mask_2012 = df['Year'] == 2012"
   ]
  },
  {
   "cell_type": "code",
   "execution_count": null,
   "id": "f54c7e68",
   "metadata": {},
   "outputs": [],
   "source": [
    "df.loc[mask_us & mask_2012]"
   ]
  },
  {
   "cell_type": "markdown",
   "id": "d90de5f3",
   "metadata": {},
   "source": [
    "And if i now want all countries where:\n",
    "1. In the year `2018`\n",
    "2. had `gdp_growth` of at least 7.5"
   ]
  },
  {
   "cell_type": "code",
   "execution_count": null,
   "id": "b032f121",
   "metadata": {},
   "outputs": [],
   "source": [
    "mask_2018 = df['Year'] == 2018\n",
    "mask_gdp_growth = df['gdp_growth'] > 7.5"
   ]
  },
  {
   "cell_type": "code",
   "execution_count": null,
   "id": "2903b35d",
   "metadata": {},
   "outputs": [],
   "source": [
    "df.loc[mask_gdp_growth & mask_2018,:]"
   ]
  },
  {
   "cell_type": "markdown",
   "id": "ba942f8a",
   "metadata": {},
   "source": [
    "If we just want the list:"
   ]
  },
  {
   "cell_type": "code",
   "execution_count": null,
   "id": "5f667f36",
   "metadata": {},
   "outputs": [],
   "source": [
    "df.loc[mask_gdp_growth & mask_2018,'Entity'].tolist()"
   ]
  },
  {
   "cell_type": "markdown",
   "id": "f2676b8a",
   "metadata": {},
   "source": [
    "And all the countries whose gdp went down in 2018?"
   ]
  },
  {
   "cell_type": "code",
   "execution_count": null,
   "id": "2867608e",
   "metadata": {},
   "outputs": [],
   "source": [
    "mask_2018 = df['Year'] == 2018\n",
    "mask_negative_gdp_growth = df['gdp_growth'] < 0\n",
    "\n",
    "df.loc[mask_negative_gdp_growth & mask_2018,'Entity'].tolist()"
   ]
  },
  {
   "cell_type": "markdown",
   "id": "37831668",
   "metadata": {},
   "source": [
    "## Using `|` (OR) operator"
   ]
  },
  {
   "cell_type": "markdown",
   "id": "ee8b41a2",
   "metadata": {},
   "source": [
    "I want all data from both:\n",
    "1. `Albania`\n",
    "2. and `Angola`"
   ]
  },
  {
   "cell_type": "code",
   "execution_count": null,
   "id": "ab32649a",
   "metadata": {},
   "outputs": [],
   "source": [
    "mask_albania = df['Entity'] == 'Albania'\n",
    "mask_angola = df['Entity'] == 'Angola'"
   ]
  },
  {
   "cell_type": "code",
   "execution_count": null,
   "id": "338cd728",
   "metadata": {},
   "outputs": [],
   "source": [
    "df.loc[mask_albania | mask_angola,:].head(3) # remove the .head to confirm the results"
   ]
  },
  {
   "cell_type": "markdown",
   "id": "802a4299",
   "metadata": {},
   "source": [
    "Pretty cool! However, we don't have to stick to conditions on the same columns:"
   ]
  },
  {
   "cell_type": "markdown",
   "id": "9adfa6b2",
   "metadata": {},
   "source": [
    "For `2020`, I want the countries where `either`:\n",
    "1. The `GDP` grew by at least 4.0\n",
    "2. The `Primary energy consumption per capita` was above 1050"
   ]
  },
  {
   "cell_type": "code",
   "execution_count": null,
   "id": "2ed4d123",
   "metadata": {},
   "outputs": [],
   "source": [
    "mask_2020 = df['Year'] == 2020\n",
    "mask_gdp = df['gdp_growth'] > 4.0\n",
    "mask_energy_consumption = df['Primary energy consumption per capita (kWh/person)'] > 1050"
   ]
  },
  {
   "cell_type": "code",
   "execution_count": null,
   "id": "6a9246f3",
   "metadata": {},
   "outputs": [],
   "source": [
    "df.loc[mask_2020 & (mask_gdp | mask_energy_consumption)]"
   ]
  },
  {
   "cell_type": "markdown",
   "id": "77cef3ba",
   "metadata": {},
   "source": [
    "Very cool! Now i can compute any analysis for this data"
   ]
  },
  {
   "cell_type": "code",
   "execution_count": null,
   "id": "d9fd4321",
   "metadata": {},
   "outputs": [],
   "source": [
    "# what is the distribution of land area density of these countries?\n",
    "\n",
    "df.loc[mask_2020 & (mask_gdp | mask_energy_consumption),'Land Area(Km2)'].describe().astype(int)"
   ]
  },
  {
   "cell_type": "code",
   "execution_count": null,
   "id": "79f82a5b",
   "metadata": {},
   "outputs": [],
   "source": [
    "# What is the average `Financial aid to developing countries` of these countries in 2020, in thousands of $\n",
    "\n",
    "df.loc[mask_2020 & (mask_gdp | mask_energy_consumption),'Financial flows to developing countries (US $)'].mean() / 1_000"
   ]
  },
  {
   "cell_type": "markdown",
   "id": "ae282a4e",
   "metadata": {},
   "source": [
    "# `Apply` operation\n",
    "\n",
    "Let's go back to the supermarket sales"
   ]
  },
  {
   "cell_type": "code",
   "execution_count": null,
   "id": "b43d66d4",
   "metadata": {},
   "outputs": [],
   "source": [
    "local_path = os.path.join('data','supermarket_sales.csv')\n",
    "url = \"https://raw.githubusercontent.com/samsung-ai-course/6-7-edition/refs/heads/main/Data%20Wrangling/Data%20Wrangling%20-%20Pandas-Advanced/Data%20Analysis%20Advanced/data/supermarket_sales.csv\"\n",
    "df = pd.read_csv(url)\n",
    "df.head(3)\n",
    "df.shape"
   ]
  },
  {
   "cell_type": "markdown",
   "id": "c4dd80ec",
   "metadata": {},
   "source": [
    "## In strings\n",
    "\n",
    "`.apply` can be incredibly useful for string columns to help you parse and clean them for further analysis.\n",
    "\n",
    "For example, it would have been useful to use the Date column to at least analyze the data throughout time.\n",
    "\n",
    "We know that this dataset is only for the year 2019, so let's extract the month and day of the month so that we can use this information for further analysis"
   ]
  },
  {
   "cell_type": "code",
   "execution_count": null,
   "id": "9ed42b2f",
   "metadata": {},
   "outputs": [],
   "source": [
    "df['Date'].apply(lambda row: row.split('/')[0])"
   ]
  },
  {
   "cell_type": "markdown",
   "id": "dad8a142",
   "metadata": {},
   "source": [
    "We applied a function to each row, which extracts the first string after splitting by the character `/` in order to get the month part of the date"
   ]
  },
  {
   "cell_type": "code",
   "execution_count": null,
   "id": "49478621",
   "metadata": {},
   "outputs": [],
   "source": [
    "#doing the same to extract the day\n",
    "df['Date'].apply(lambda row: row.split('/')[1]) # day of the month"
   ]
  },
  {
   "cell_type": "markdown",
   "id": "99c5f10f",
   "metadata": {},
   "source": [
    "We can create new columns in our dataset with this info! Let's add this new data to our dataset"
   ]
  },
  {
   "cell_type": "code",
   "execution_count": null,
   "id": "047ce3cf",
   "metadata": {},
   "outputs": [],
   "source": [
    "df['month'] = df['Date'].apply(lambda row: row.split('/')[0])\n",
    "df['day'] = df['Date'].apply(lambda row: row.split('/')[1])"
   ]
  },
  {
   "cell_type": "code",
   "execution_count": null,
   "id": "ee3f807a",
   "metadata": {},
   "outputs": [],
   "source": [
    "df.head(3)"
   ]
  },
  {
   "cell_type": "markdown",
   "id": "3ac756c4",
   "metadata": {},
   "source": [
    "Now that we have this extra information, we can do a lot more analysis to the data!"
   ]
  },
  {
   "cell_type": "code",
   "execution_count": null,
   "id": "ace63a1f",
   "metadata": {},
   "outputs": [],
   "source": [
    "# how many sales in January?\n",
    "mask_january = df['month'] == \"1\"\n",
    "\n",
    "df.loc[mask_january,'Total'].sum()"
   ]
  },
  {
   "cell_type": "code",
   "execution_count": null,
   "id": "cc58cb81",
   "metadata": {},
   "outputs": [],
   "source": [
    "# what was the day of february with the largest purchase?\n",
    "mask_february = df['month'] == \"2\"\n",
    "index = df.loc[mask_february,'Total'].idxmax()\n",
    "\n",
    "df.loc[index,'day']"
   ]
  },
  {
   "cell_type": "code",
   "execution_count": null,
   "id": "18a94f67",
   "metadata": {},
   "outputs": [],
   "source": [
    "# and the rest of the data for this day?\n",
    "df.loc[index,:].to_frame('Value')"
   ]
  },
  {
   "cell_type": "code",
   "execution_count": null,
   "id": "4eb99cdc",
   "metadata": {},
   "outputs": [],
   "source": [
    "df.head(3)"
   ]
  },
  {
   "cell_type": "markdown",
   "id": "da31e597",
   "metadata": {},
   "source": [
    "## In numerical data\n",
    "\n",
    "There are some columns that are computed through operations on other columns:\n",
    "\n",
    "For example:\n",
    "\n",
    "1. `Tax 5%`: is simply `Unit price` * `Quantity` * 0.05\n",
    "2. `Total`: is `Unit price` * `Quantity` + `Tax 5%`\n",
    "\n",
    "\n",
    "Let's do the `Tax 5%`"
   ]
  },
  {
   "cell_type": "code",
   "execution_count": null,
   "id": "9721f1eb",
   "metadata": {},
   "outputs": [],
   "source": [
    "total_before_taxes = df['Unit price'] * df['Quantity']\n",
    "total_before_taxes"
   ]
  },
  {
   "cell_type": "code",
   "execution_count": null,
   "id": "94b1abd6",
   "metadata": {},
   "outputs": [],
   "source": [
    "tax_5 = total_before_taxes.apply(lambda row: row * 0.05)\n",
    "tax_5"
   ]
  },
  {
   "cell_type": "markdown",
   "id": "d6971027",
   "metadata": {},
   "source": [
    "How do we compare our solution with the `Tax 5%` column? As always there are many ways to do that:"
   ]
  },
  {
   "cell_type": "code",
   "execution_count": null,
   "id": "bbefee2d",
   "metadata": {},
   "outputs": [],
   "source": [
    "# visually\n",
    "pd.concat([tax_5.rename('Ours'), df['Tax 5%']],axis=1)"
   ]
  },
  {
   "cell_type": "code",
   "execution_count": null,
   "id": "b276d98e",
   "metadata": {},
   "outputs": [],
   "source": [
    "# numerically \n",
    "(tax_5 - df['Tax 5%']).round(5).value_counts()"
   ]
  },
  {
   "cell_type": "markdown",
   "id": "a4de5939",
   "metadata": {},
   "source": [
    "Awesome! This confirms we did it well"
   ]
  },
  {
   "cell_type": "markdown",
   "id": "2e9f9fbc",
   "metadata": {},
   "source": [
    "> Let's say that now we want the `Total` in thousands of $ "
   ]
  },
  {
   "cell_type": "code",
   "execution_count": null,
   "id": "acdc97dc",
   "metadata": {},
   "outputs": [],
   "source": [
    "df.loc[:,'Total (thousands $)'] = df['Total'].apply(lambda row: row / 1000)"
   ]
  },
  {
   "cell_type": "code",
   "execution_count": null,
   "id": "538099d4",
   "metadata": {},
   "outputs": [],
   "source": [
    "df.head(5)"
   ]
  },
  {
   "cell_type": "markdown",
   "id": "e1e5da5f",
   "metadata": {},
   "source": [
    "# Groupby\n",
    "\n",
    "\n",
    "[complete docs for groupby in Pandas](https://pandas.pydata.org/docs/reference/groupby.html)\n",
    "\n",
    "\n",
    "Often you want to compute information across all unique categories of a column."
   ]
  },
  {
   "cell_type": "code",
   "execution_count": null,
   "id": "c3cc05d3",
   "metadata": {},
   "outputs": [],
   "source": [
    "local_path = os.path.join('data','global-data-on-sustainable-energy.csv')\n",
    "url = \"https://raw.githubusercontent.com/samsung-ai-course/6-7-edition/refs/heads/main/Data%20Wrangling/Data%20Wrangling%20-%20Pandas-Advanced/Data%20Analysis%20Advanced/data/global-data-on-sustainable-energy.csv\"\n",
    "df = pd.read_csv(url)\n",
    "df.head(3)\n",
    "df.shape"
   ]
  },
  {
   "cell_type": "markdown",
   "id": "45100ee0",
   "metadata": {},
   "source": [
    "> What was the average gdp growth across **all countries** between `2015` and `2019`?"
   ]
  },
  {
   "cell_type": "code",
   "execution_count": null,
   "id": "e4858a90",
   "metadata": {},
   "outputs": [],
   "source": [
    "mask_years = (df['Year'] >= 2015) & (df['Year'] <= 2019)\n",
    "\n",
    "(df\n",
    " .loc[mask_years,:] # select only data for the years between 2015 and 2019\n",
    " .groupby('Entity') # group by the countries\n",
    " ['gdp_growth'].mean() # get the average value of gdp_growth for each country\n",
    " .sort_values(ascending=False) # sort the result in descending order\n",
    ")"
   ]
  },
  {
   "cell_type": "markdown",
   "id": "ad780a0a",
   "metadata": {},
   "source": [
    "## Plotting"
   ]
  },
  {
   "cell_type": "markdown",
   "id": "72823971",
   "metadata": {},
   "source": [
    "pretty cool right? The results of groupby make some very good candidates for visualization"
   ]
  },
  {
   "cell_type": "code",
   "execution_count": null,
   "id": "e87370e5",
   "metadata": {},
   "outputs": [],
   "source": [
    "(df\n",
    " .loc[mask_years,:] # select only data for the years between 2015 and 2019\n",
    " .groupby('Entity') # group by the countries\n",
    " ['gdp_growth'].mean() # get the average value of gdp_growth for each country\n",
    " .sort_values(ascending=False) # sort the result in descending order\n",
    " .plot.bar()\n",
    ")"
   ]
  },
  {
   "cell_type": "markdown",
   "id": "56b80a9c",
   "metadata": {},
   "source": [
    "![](media/ugly.jpg)"
   ]
  },
  {
   "cell_type": "markdown",
   "id": "aa9f9f50",
   "metadata": {},
   "source": [
    "**Ouch** that hurts. There are so many countries in this dataset that they don't fit very well in the figure\n",
    "\n",
    "We can try a few things:\n",
    "1. Increase the figure size\n",
    "2. rotate the labels by 45 degrees\n",
    "3. plot only the top 10 "
   ]
  },
  {
   "cell_type": "code",
   "execution_count": null,
   "id": "df36cd6b",
   "metadata": {},
   "outputs": [],
   "source": [
    "(df\n",
    " .loc[mask_years,:] # select only data for the years between 2015 and 2019\n",
    " .groupby('Entity') # group by the countries\n",
    " ['gdp_growth'].mean() # get the average value of gdp_growth for each country\n",
    " .sort_values(ascending=False) # sort the result in descending order\n",
    " .iloc[:10] # select top 10\n",
    " .plot.bar(rot=45,\n",
    "           figsize=(16,8),\n",
    "           title='Top 10 Countries by gdp growth between 2015 and 2019', \n",
    "           ylabel='% gdp growth',\n",
    "           xlabel='Country'\n",
    "          )\n",
    ")"
   ]
  },
  {
   "cell_type": "markdown",
   "id": "c217bbc4",
   "metadata": {},
   "source": [
    "Much better! Font size for the labels and title are a bit small though, let's increase them"
   ]
  },
  {
   "cell_type": "code",
   "execution_count": null,
   "id": "d0fa1905",
   "metadata": {},
   "outputs": [],
   "source": [
    "ax = (df\n",
    "     .loc[mask_years,:] # select only data for the years between 2015 and 2019\n",
    "     .groupby('Entity') # group by the countries\n",
    "     ['gdp_growth'].mean() # get the average value of gdp_growth for each country\n",
    "     .sort_values(ascending=False) # sort the result in descending order\n",
    "     .iloc[:10] # select top 10\n",
    "     .plot.bar(rot=45,\n",
    "               figsize=(16,8)\n",
    "              )\n",
    "    )\n",
    "\n",
    "ax.set_xlabel('Country', fontsize=20);\n",
    "ax.set_ylabel('% gdp growth', fontsize=20);\n",
    "ax.set_title('Top 10 Countries by gdp growth between 2015 and 2019', fontsize=20);"
   ]
  },
  {
   "cell_type": "markdown",
   "id": "c033c63a",
   "metadata": {},
   "source": [
    "## Continuing Groupby\n",
    "\n",
    "Groupby is a very powerful tool, let's analyze more use cases we can do with it"
   ]
  },
  {
   "cell_type": "markdown",
   "id": "c3bfd659",
   "metadata": {},
   "source": [
    "> What is the average gdp growth by year of our list of countries?"
   ]
  },
  {
   "cell_type": "code",
   "execution_count": null,
   "id": "0b9a0997",
   "metadata": {},
   "outputs": [],
   "source": [
    "df.groupby('Year')['gdp_growth'].mean()"
   ]
  },
  {
   "cell_type": "markdown",
   "id": "493bdb42",
   "metadata": {},
   "source": [
    "> In total, how much did each country financially aid developing countries? (in billions of \\$)"
   ]
  },
  {
   "cell_type": "code",
   "execution_count": null,
   "id": "2eb0b3b3",
   "metadata": {},
   "outputs": [],
   "source": [
    "df.groupby('Entity')['Financial flows to developing countries (US $)'].sum().sort_values(ascending=False) / 1_000_000_000"
   ]
  },
  {
   "cell_type": "markdown",
   "id": "7915e54a",
   "metadata": {},
   "source": [
    "again, we can make a visualization out of this"
   ]
  },
  {
   "cell_type": "code",
   "execution_count": null,
   "id": "c82e1189",
   "metadata": {},
   "outputs": [],
   "source": [
    "result = df.groupby('Entity')['Financial flows to developing countries (US $)'].sum().sort_values(ascending=False) / 1_000_000_000\n",
    "\n",
    "result.head(10).plot.bar(title='Top countries with most financial aid to developing countries between 2000 and 2020',rot=45,xlabel='Country',ylabel='$ (billions)')"
   ]
  },
  {
   "cell_type": "markdown",
   "id": "73ca7e2c",
   "metadata": {},
   "source": [
    "> What was the worst GDP Growth for each country"
   ]
  },
  {
   "cell_type": "code",
   "execution_count": null,
   "id": "8acc38bd",
   "metadata": {},
   "outputs": [],
   "source": [
    "df.groupby('Entity')['gdp_growth'].min().sort_values()"
   ]
  },
  {
   "cell_type": "markdown",
   "id": "5a2f2926",
   "metadata": {},
   "source": [
    "Where does portugal stand in this?"
   ]
  },
  {
   "cell_type": "code",
   "execution_count": null,
   "id": "b89a0604",
   "metadata": {},
   "outputs": [],
   "source": [
    "df.groupby('Entity')['gdp_growth'].min()['Portugal']"
   ]
  },
  {
   "cell_type": "markdown",
   "id": "cc433010",
   "metadata": {},
   "source": [
    "Also, sometimes it can be very useful to know the size of each group. For example:\n",
    "> How many records do we have per country"
   ]
  },
  {
   "cell_type": "code",
   "execution_count": null,
   "id": "5bc9e493",
   "metadata": {},
   "outputs": [],
   "source": [
    "df.groupby('Entity').size().sort_values()"
   ]
  },
  {
   "cell_type": "markdown",
   "id": "63771812",
   "metadata": {},
   "source": [
    "## Creating your own custom groupby operations with `.apply`\n",
    "\n",
    "Often, you will need to perform a custom operation on each group.\n",
    "\n",
    "For example: \n",
    "> Give me the countries with the highest gdp growth **by year**\n",
    "\n",
    "to solve this, we would need:\n",
    "1. To group the data by year\n",
    "2. In each group find the index of largest `gdp growth`\n",
    "3. Use that index to find the `Country` of largest growth\n",
    "4. repeat for all groups (though groupby handles that for us)\n",
    "\n",
    "This means we need data from two columns in our groupby operation: `gdp_growth` and `Entity`"
   ]
  },
  {
   "cell_type": "code",
   "execution_count": null,
   "id": "5475924b",
   "metadata": {},
   "outputs": [],
   "source": [
    "# Give me the countries with the highest gdp growth **by year**\n",
    "\n",
    "df.groupby('Year').apply(lambda subdf: subdf.loc[subdf['gdp_growth'].idxmax(),'Entity'])"
   ]
  },
  {
   "cell_type": "markdown",
   "id": "0181395b",
   "metadata": {},
   "source": [
    "pretty awesome right?"
   ]
  },
  {
   "cell_type": "markdown",
   "id": "7abb4256",
   "metadata": {},
   "source": [
    "We can keep going and perform an even more complex query:\n",
    "> What is the country that had the highest gdp growth most times?"
   ]
  },
  {
   "cell_type": "code",
   "execution_count": null,
   "id": "b6f5114c",
   "metadata": {},
   "outputs": [],
   "source": [
    "(df\n",
    " .groupby('Year')\n",
    " .apply(lambda subdf: subdf.loc[subdf['gdp_growth'].idxmax(),'Entity']) # This is what we had already\n",
    " .value_counts()\n",
    " .where(lambda x: x == x.max())\n",
    " .dropna()\n",
    " .index\n",
    " .tolist()\n",
    ")"
   ]
  },
  {
   "cell_type": "markdown",
   "id": "57914c77",
   "metadata": {},
   "source": [
    "![](media/cat.jpeg)"
   ]
  }
 ],
 "metadata": {
  "kernelspec": {
   "display_name": "MLCatolica24",
   "language": "python",
   "name": "python3"
  },
  "language_info": {
   "codemirror_mode": {
    "name": "ipython",
    "version": 3
   },
   "file_extension": ".py",
   "mimetype": "text/x-python",
   "name": "python",
   "nbconvert_exporter": "python",
   "pygments_lexer": "ipython3",
   "version": "3.12.3"
  },
  "toc-autonumbering": true,
  "toc-showmarkdowntxt": false
 },
 "nbformat": 4,
 "nbformat_minor": 5
}
