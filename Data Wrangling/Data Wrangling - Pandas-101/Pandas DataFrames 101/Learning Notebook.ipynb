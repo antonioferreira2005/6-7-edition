{
 "cells": [
  {
   "cell_type": "markdown",
   "id": "5abddba6",
   "metadata": {},
   "source": [
    "# What you will learn in this notebook\n",
    "\n",
    "In this notebook we will cover the following:\n",
    "\n",
    "1. Dataframes \n",
    "    1. Making dataframes from series\n",
    "    2. What if my data isn't a pandas Series?\n",
    "    3. Getting the index and column values\n",
    "2. Previewing and describing a DataFrame\n",
    "    1. Previewing the DataFrame or part of it\n",
    "    2. Retrieving DataFrame information\n",
    "3. Reading data from files into pandas dataframes\n",
    "4. Writing data from pandas into files"
   ]
  },
  {
   "cell_type": "markdown",
   "id": "9c64bc28",
   "metadata": {},
   "source": [
    "# Imports"
   ]
  },
  {
   "cell_type": "code",
   "execution_count": null,
   "id": "f14e7c8c",
   "metadata": {},
   "outputs": [],
   "source": [
    "import pandas as pd\n",
    "import os"
   ]
  },
  {
   "cell_type": "markdown",
   "id": "70f32853",
   "metadata": {},
   "source": [
    "# What is a DataFrame\n",
    "\n",
    "A 2D, potentially heterogenous, tabular structure. It can be thought of as a container of Series. It is also possible to have 1-dimensional dataframes (dataframes with one column). The documentation on DataFrame is available on the `pandas.DataFrame` [documentation page](https://pandas.pydata.org/pandas-docs/stable/reference/api/pandas.DataFrame.html) \n",
    "\n",
    "Below is an example of a DataFrame with Pokémon characteristics. Notice the different datatypes - numeric, string, and boolean.\n",
    "\n",
    "\n",
    "![](../media/pokemon.png)"
   ]
  },
  {
   "cell_type": "markdown",
   "id": "795a2687",
   "metadata": {},
   "source": [
    "Let's create our first DataFrame:"
   ]
  },
  {
   "cell_type": "code",
   "execution_count": null,
   "id": "0b9369ca",
   "metadata": {},
   "outputs": [],
   "source": [
    "df1 = pd.DataFrame([10,122,1])\n",
    "df1"
   ]
  },
  {
   "cell_type": "markdown",
   "id": "ca83e30e",
   "metadata": {},
   "source": [
    "Now this might look like a pandas Series on the first sight, but it behaves differently in some ways (and similarly in others). The DataFrame has an index as a Series, but additionally it has column names (the zero above the horizontal line in this example). Remember that when printing Series, pandas automatically printed the `datatype`? It does not happen with the DataFrame. The DataFrame as a whole does not have a datatype, but each of its columns does.\n",
    "\n",
    "Let's print the dataframe column. We use **square brackets** with the column name to select it. In this case, the **column name** is just a number. (If you remember from the Series section, this was the way to select the Series rows - the first difference!)\n",
    "\n",
    "\n",
    "A DataFrame column called in this way is actually a pandas `Series`:"
   ]
  },
  {
   "cell_type": "code",
   "execution_count": null,
   "id": "2c287302",
   "metadata": {},
   "outputs": [],
   "source": [
    "df1[0] # this selects the column with name 0"
   ]
  },
  {
   "cell_type": "markdown",
   "id": "d8461188",
   "metadata": {},
   "source": [
    "You can select a column and have the result be a dataframe using **double brackets**:"
   ]
  },
  {
   "cell_type": "code",
   "execution_count": null,
   "id": "21caa2ca",
   "metadata": {},
   "outputs": [],
   "source": [
    "df1[[0]]"
   ]
  },
  {
   "cell_type": "markdown",
   "id": "93ccce57",
   "metadata": {},
   "source": [
    "You probably guessed by the look of it that this is a `DataFrame`! \n",
    "\n",
    "Remember: \n",
    "\n",
    "1. one pair of brackets --> **Series**\n",
    "2. two pairs of brackets --> **DataFrame**"
   ]
  },
  {
   "cell_type": "markdown",
   "id": "adc471f3",
   "metadata": {},
   "source": [
    "Now on to a dataframe with more columns. We will also pass a list of `column names` and another list for the `index`, using the appropriate arguments."
   ]
  },
  {
   "cell_type": "code",
   "execution_count": null,
   "id": "f65a187e",
   "metadata": {},
   "outputs": [],
   "source": [
    "# ignore the weird spacing, it's just to make clear that we have 3 lists of 3 elements\n",
    "# notice that this is a list of lists\n",
    "\n",
    "df2 = pd.DataFrame([[1,   2,   7],  \n",
    "                    [4.2, 6.1, -4.1], \n",
    "                    [\"a\", \"b\", \"z\"] ],\n",
    "                    columns=['col1','col2','col3'],  # <- column names\n",
    "                    index=['row1','row2','row3'])    # <- row names\n",
    "df2"
   ]
  },
  {
   "cell_type": "code",
   "execution_count": null,
   "id": "659e39e9",
   "metadata": {},
   "outputs": [],
   "source": [
    "int(1.5)"
   ]
  },
  {
   "cell_type": "code",
   "execution_count": null,
   "id": "4aa5d81a",
   "metadata": {},
   "outputs": [],
   "source": [
    "df2.iloc[:int(df2.shape[0]/2),:]"
   ]
  },
  {
   "cell_type": "code",
   "execution_count": null,
   "id": "369310ab",
   "metadata": {},
   "outputs": [],
   "source": [
    "df2.loc['row1',['col2','col3']]"
   ]
  },
  {
   "cell_type": "markdown",
   "id": "f1875b3f",
   "metadata": {},
   "source": [
    "Looking at the result, we can see that each list represents a row. What if you want to input the values by columns? You can use `dictionaries`:"
   ]
  },
  {
   "cell_type": "code",
   "execution_count": null,
   "id": "3aa18f4c",
   "metadata": {},
   "outputs": [],
   "source": [
    "df3=pd.DataFrame(data = { 'col1':[1,   2,   7],  \n",
    "                   'col2':[4.2, 6.1, -4.1], \n",
    "                   'col3':[\"a\", \"b\", \"z\"] \n",
    "                 },\n",
    "                 index=['row1','row2','row3']\n",
    "                )\n",
    "df3"
   ]
  },
  {
   "cell_type": "markdown",
   "id": "b9e1a2f2",
   "metadata": {},
   "source": [
    "Very often, your data comes in lists, including the column names. It's easy to zip them into a `dictionary`"
   ]
  },
  {
   "cell_type": "code",
   "execution_count": null,
   "id": "010ac557",
   "metadata": {},
   "outputs": [],
   "source": [
    "column_names=[\"company\",\"founder_name\",\"founder_surname\"]\n",
    "\n",
    "company = [\"PiggyVest\",\"Bumble\",\"Backstage Capital\",\"Blendoor\",\"LungXpert\", \"Cisco\",\"Eventbrite\",\n",
    "                \"Adafruit Industries\",\"Verge Genomics\",\"23andme\"]\n",
    "founder_name = [\"Odunayo\",\"Whitney\",\"Arlan\",\"Stephanie\",\"Sasikala\",\"Sandy\",\"Julia\",\"Limor\",\"Alice\",\"Anne\"]\n",
    "founder_surname = [\"Eweniyi\",\"Wolfe Heard\",\"Hamilton\",\"Lampkin\",\"Devi\",\"Lerner\",\"Hartz\",\"Fried\",\"Zhang\",\"Wojcicki\"]"
   ]
  },
  {
   "cell_type": "code",
   "execution_count": null,
   "id": "05cd0ca0",
   "metadata": {},
   "outputs": [],
   "source": [
    "tech_companies_dictionary=dict(zip(column_names,[company,founder_name,founder_surname]))\n",
    "tech_companies_dictionary"
   ]
  },
  {
   "cell_type": "markdown",
   "id": "486dc97c",
   "metadata": {},
   "source": [
    "... then pass it to a `DataFrame`\n"
   ]
  },
  {
   "cell_type": "code",
   "execution_count": null,
   "id": "a1086930",
   "metadata": {},
   "outputs": [],
   "source": [
    "df6 = pd.DataFrame(tech_companies_dictionary)\n",
    "df6"
   ]
  },
  {
   "cell_type": "markdown",
   "id": "596f7f40",
   "metadata": {},
   "source": [
    "# Making DataFrames from Series"
   ]
  },
  {
   "cell_type": "code",
   "execution_count": null,
   "id": "49670a13",
   "metadata": {},
   "outputs": [],
   "source": [
    "# Let's say we have these lists somewhere on our computer: \n",
    "column_names=[\"company\",\"founder_name\",\"founder_surname\"]\n",
    "\n",
    "company = [\"PiggyVest\",\"Bumble\",\"Backstage Capital\",\"Blendoor\",\"LungXpert\", \"Cisco\",\"Eventbrite\",\n",
    "                \"Adafruit Industries\",\"Verge Genomics\",\"23andme\"]\n",
    "founder_name = [\"Odunayo\",\"Whitney\",\"Arlan\",\"Stephanie\",\"Sasikala\",\"Sandy\",\"Julia\",\"Limor\",\"Alice\",\"Anne\"]\n",
    "founder_surname = [\"Eweniyi\",\"Wolfe Heard\",\"Hamilton\",\"Lampkin\",\"Devi\",\"Lerner\",\"Hartz\",\"Fried\",\"Zhang\",\"Wojcicki\"]"
   ]
  },
  {
   "cell_type": "markdown",
   "id": "e4949167",
   "metadata": {},
   "source": [
    "Let's make some series, using the company name as index:"
   ]
  },
  {
   "cell_type": "code",
   "execution_count": null,
   "id": "f32f8154",
   "metadata": {},
   "outputs": [],
   "source": [
    "series_of_founder_names = pd.Series(data=founder_name, # <-- data \n",
    "                                    index=company,     # <-- index \n",
    "                                   )\n",
    "series_of_founder_names"
   ]
  },
  {
   "cell_type": "markdown",
   "id": "23b8954a",
   "metadata": {},
   "source": [
    "Same thing, this time for surnames:"
   ]
  },
  {
   "cell_type": "code",
   "execution_count": null,
   "id": "ce009b29",
   "metadata": {},
   "outputs": [],
   "source": [
    "series_of_founder_surnames = pd.Series(data=founder_surname, # <-- different data\n",
    "                                       index=company,           # <-- same index \n",
    "                                      )\n",
    "series_of_founder_surnames"
   ]
  },
  {
   "cell_type": "markdown",
   "id": "83d01901",
   "metadata": {},
   "source": [
    "Now with these two series we can create a dataframe! Pandas will notice that they have the same index, and will give the dataframe that index:"
   ]
  },
  {
   "cell_type": "code",
   "execution_count": null,
   "id": "b6faf8bc",
   "metadata": {},
   "outputs": [],
   "source": [
    "df7 = pd.DataFrame({'founder_name': series_of_founder_names,  \n",
    "                    'founder_surname': series_of_founder_surnames})\n",
    "df7"
   ]
  },
  {
   "cell_type": "markdown",
   "id": "c94bc8b6",
   "metadata": {},
   "source": [
    "Other ways you can `concatenate` two or more series into a dataframe:"
   ]
  },
  {
   "cell_type": "code",
   "execution_count": null,
   "id": "e4b56e29",
   "metadata": {},
   "outputs": [],
   "source": [
    "pd.concat([series_of_founder_names, series_of_founder_surnames],axis=1)"
   ]
  },
  {
   "cell_type": "markdown",
   "id": "461262a7",
   "metadata": {},
   "source": [
    "Wait a minute, where are our expected `column names`?\n",
    "\n",
    "Pandas filled the columns names automatically like it always does. When concatenating multiple series to form a dataframe, pandas will use the `.name` attribute of each series as a column."
   ]
  },
  {
   "cell_type": "code",
   "execution_count": null,
   "id": "ac36de34",
   "metadata": {},
   "outputs": [],
   "source": [
    "series_of_founder_names.name"
   ]
  },
  {
   "cell_type": "markdown",
   "id": "7e23a022",
   "metadata": {},
   "source": [
    "But this returned nothing, which means our series don't have a name. Let's name them!"
   ]
  },
  {
   "cell_type": "code",
   "execution_count": null,
   "id": "aa7ce49b",
   "metadata": {},
   "outputs": [],
   "source": [
    "series_of_founder_names = series_of_founder_names.rename('founder_name')\n",
    "series_of_founder_surnames = series_of_founder_surnames.rename('founder_surname')"
   ]
  },
  {
   "cell_type": "markdown",
   "id": "16b4e0e5",
   "metadata": {},
   "source": [
    "And now we try again"
   ]
  },
  {
   "cell_type": "code",
   "execution_count": null,
   "id": "b0a7bca7",
   "metadata": {},
   "outputs": [],
   "source": [
    "pd.concat([series_of_founder_names, series_of_founder_surnames],axis=1)"
   ]
  },
  {
   "cell_type": "markdown",
   "id": "bcc32d91",
   "metadata": {},
   "source": [
    "great!"
   ]
  },
  {
   "cell_type": "markdown",
   "id": "ec6e7261",
   "metadata": {},
   "source": [
    "## What if the data you are merging does not have the same index?"
   ]
  },
  {
   "cell_type": "markdown",
   "id": "152ea740",
   "metadata": {},
   "source": [
    "Let's try to another another info about each company: the **number of employees** they have."
   ]
  },
  {
   "cell_type": "code",
   "execution_count": null,
   "id": "ac71c4f4",
   "metadata": {},
   "outputs": [],
   "source": [
    "number_of_employees = [71, 700, 12, 20, 10, 79500, 1000, 105, 49, 683]\n",
    "\n",
    "series_number_of_employees = pd.Series(data=number_of_employees) # <-- data, no index \n",
    "# this has an index, although we did not pass it - Series always has an index\n",
    "series_number_of_employees"
   ]
  },
  {
   "cell_type": "markdown",
   "id": "eb86390b",
   "metadata": {},
   "source": [
    "Now, you may be tempted to add this series directly to the dataframe, and pandas won't stop you:"
   ]
  },
  {
   "cell_type": "code",
   "execution_count": null,
   "id": "fd6ee6c1",
   "metadata": {},
   "outputs": [],
   "source": [
    "df8 = pd.DataFrame({'founder_name': series_of_founder_names,  \n",
    "                    'founder_surname': series_of_founder_surnames,\n",
    "                    'number_employees': series_number_of_employees})\n",
    "df8"
   ]
  },
  {
   "cell_type": "markdown",
   "id": "d3cf5221",
   "metadata": {},
   "source": [
    "<font style=\"position:absolute; top:2em;opacity:0;\"></font>"
   ]
  },
  {
   "cell_type": "markdown",
   "id": "8145aeba",
   "metadata": {},
   "source": [
    "![](../media/what-the-hell-is-this.jpg)"
   ]
  },
  {
   "cell_type": "markdown",
   "id": "752f13df",
   "metadata": {},
   "source": [
    "When joining multiple `series` into a `dataframe`, `Pandas` will create a row for each unique index value present in all of the series. Then starts to fill the column values of each row wherever the index match. Unfortunately the first 2 series don't match any index of the this 3rd series we merged into, generating this mess.\n",
    "\n",
    "Remember to **think about the index** when combining `series` into `dataframes`!"
   ]
  },
  {
   "cell_type": "code",
   "execution_count": null,
   "id": "c306ccaf",
   "metadata": {},
   "outputs": [],
   "source": [
    "series_number_of_employees_indexed = pd.Series(data=number_of_employees,index=company)\n",
    "df9 = pd.DataFrame({'founder_name': series_of_founder_names,  \n",
    "                    'founder_surname': series_of_founder_surnames,\n",
    "                    'number_employees': series_number_of_employees_indexed})\n",
    "df9"
   ]
  },
  {
   "cell_type": "markdown",
   "id": "c57a5095",
   "metadata": {},
   "source": [
    "That's better!"
   ]
  },
  {
   "cell_type": "markdown",
   "id": "84dc0e48",
   "metadata": {},
   "source": [
    "# Getting the index and column values"
   ]
  },
  {
   "cell_type": "markdown",
   "id": "c0f2dda1",
   "metadata": {},
   "source": [
    "The `DataFrame object contains a few attributes that are useful for getting an overview of your data.\n",
    "\n",
    "Get the index (row names), with `.index`:"
   ]
  },
  {
   "cell_type": "code",
   "execution_count": null,
   "id": "6bb6cf96",
   "metadata": {},
   "outputs": [],
   "source": [
    "df9.index"
   ]
  },
  {
   "cell_type": "markdown",
   "id": "cbdbe449",
   "metadata": {},
   "source": [
    "Get the column names, with `.columns`:"
   ]
  },
  {
   "cell_type": "code",
   "execution_count": null,
   "id": "5bff6587",
   "metadata": {},
   "outputs": [],
   "source": [
    "df9.columns"
   ]
  },
  {
   "cell_type": "markdown",
   "id": "004deb86",
   "metadata": {},
   "source": [
    "Among other things, this might be used to **iterate** over the column names:"
   ]
  },
  {
   "cell_type": "code",
   "execution_count": null,
   "id": "d6c79809",
   "metadata": {},
   "outputs": [],
   "source": [
    "for col in df9.columns:\n",
    "    print(col)"
   ]
  },
  {
   "cell_type": "markdown",
   "id": "6cae0fff",
   "metadata": {},
   "source": [
    "We can also use `dtypes` to know the type of each column in the dataframe:"
   ]
  },
  {
   "cell_type": "code",
   "execution_count": null,
   "id": "c264895c",
   "metadata": {},
   "outputs": [],
   "source": [
    "df9.dtypes"
   ]
  },
  {
   "cell_type": "markdown",
   "id": "94daac79",
   "metadata": {},
   "source": [
    "To get the underlying data as an array, use `.to_numpy()` or `.values`. The array will be 2D, as the dataframe. "
   ]
  },
  {
   "cell_type": "code",
   "execution_count": null,
   "id": "877bb12c",
   "metadata": {},
   "outputs": [],
   "source": [
    "df9.to_numpy()"
   ]
  },
  {
   "cell_type": "code",
   "execution_count": null,
   "id": "43b4a7c8",
   "metadata": {},
   "outputs": [],
   "source": [
    "df9.values"
   ]
  },
  {
   "cell_type": "markdown",
   "id": "677f2468",
   "metadata": {},
   "source": [
    "# Previewing and Describing a DataFrame"
   ]
  },
  {
   "cell_type": "markdown",
   "id": "cc5efcee",
   "metadata": {},
   "source": [
    "In a jupyter notebook, calling a DataFrame will display it (as seen previously):"
   ]
  },
  {
   "cell_type": "code",
   "execution_count": null,
   "id": "4778cdf5",
   "metadata": {},
   "outputs": [],
   "source": [
    "df9"
   ]
  },
  {
   "cell_type": "markdown",
   "id": "60b77f16",
   "metadata": {},
   "source": [
    "## .loc and .iloc in Pandas DataFrames"
   ]
  },
  {
   "cell_type": "markdown",
   "id": "96ca0b6b",
   "metadata": {},
   "source": [
    "![](https://i.imgflip.com/98w4d0.jpg)"
   ]
  },
  {
   "cell_type": "code",
   "execution_count": null,
   "id": "91f3fd1d",
   "metadata": {},
   "outputs": [],
   "source": [
    "# what do you expect this will return?\n",
    "df9['founder_name']"
   ]
  },
  {
   "cell_type": "code",
   "execution_count": null,
   "id": "e54d8f46",
   "metadata": {},
   "outputs": [],
   "source": [
    "# Select all rows, and column 'founder_surname'\n",
    "df9.loc[:,'founder_surname']"
   ]
  },
  {
   "cell_type": "code",
   "execution_count": null,
   "id": "7cb0d01e",
   "metadata": {},
   "outputs": [],
   "source": [
    "# Select all rows, and both those two columns\n",
    "df9.loc[:,['founder_surname','number_employees']]"
   ]
  },
  {
   "cell_type": "code",
   "execution_count": null,
   "id": "67fc3e0e",
   "metadata": {},
   "outputs": [],
   "source": [
    "# select the row with index value 'PiggyVest', and all columns\n",
    "df9.loc['PiggyVest',:]"
   ]
  },
  {
   "cell_type": "code",
   "execution_count": null,
   "id": "6c35166d",
   "metadata": {},
   "outputs": [],
   "source": [
    "# select the row with index value 'PiggyVest', and the column 'number_employees'\n",
    "df9.loc['LungXpert','number_employees']"
   ]
  },
  {
   "cell_type": "code",
   "execution_count": null,
   "id": "89bbdebb",
   "metadata": {},
   "outputs": [],
   "source": [
    "# all rows, all columns\n",
    "df9.iloc[:,:]\n",
    "df9.loc[:,:] # same thing"
   ]
  },
  {
   "cell_type": "code",
   "execution_count": null,
   "id": "a67ba9d4",
   "metadata": {},
   "outputs": [],
   "source": [
    "# first 3 rows, last two columns\n",
    "df9.iloc[:3,-2:]"
   ]
  },
  {
   "cell_type": "markdown",
   "id": "cb1b5d8c",
   "metadata": {},
   "source": [
    "If the dataframe has a lot of entries, it will be only partially displayed. Nonetheless, it might still be too much information being displayed at once. An alternative are the `.head()` and `.tail()` methods which print only a certain number of entries from the top and bottom of the dataframe, respectively."
   ]
  },
  {
   "cell_type": "code",
   "execution_count": null,
   "id": "c1ba6d67",
   "metadata": {},
   "outputs": [],
   "source": [
    "df9.head(n=2)"
   ]
  },
  {
   "cell_type": "code",
   "execution_count": null,
   "id": "e4f9af56",
   "metadata": {},
   "outputs": [],
   "source": [
    "df9.tail(n=3)"
   ]
  },
  {
   "cell_type": "markdown",
   "id": "9b992f41",
   "metadata": {},
   "source": [
    "## Retrieving DataFrame Information"
   ]
  },
  {
   "cell_type": "markdown",
   "id": "fc518c85",
   "metadata": {},
   "source": [
    "`.shape` returns a tuple with the dimensions of the dataframe (number_of_rows, number_of_columns)."
   ]
  },
  {
   "cell_type": "code",
   "execution_count": null,
   "id": "56de3af9",
   "metadata": {},
   "outputs": [],
   "source": [
    "df9.shape"
   ]
  },
  {
   "cell_type": "markdown",
   "id": "957b476e",
   "metadata": {},
   "source": [
    "With `.info()`, we obtain:\n",
    "\n",
    "- the number of entries\n",
    "- the number of columns\n",
    "- the title of each column\n",
    "- the number of entries that in fact exists in each column (does not consider missing values!)\n",
    "- the type of data of the entries of a given column."
   ]
  },
  {
   "cell_type": "code",
   "execution_count": null,
   "id": "1e319912",
   "metadata": {},
   "outputs": [],
   "source": [
    "df9.info()"
   ]
  },
  {
   "cell_type": "markdown",
   "id": "25dafe7f",
   "metadata": {},
   "source": [
    "For the numerical columns it's also possible to obtain basic statistical information using `.describe()`:\n",
    "\n",
    "- the number of rows for each numerical column\n",
    "- the mean value\n",
    "- the standard deviation\n",
    "- the minimum and maximum value\n",
    "- the median, the 25th and 75th percentile."
   ]
  },
  {
   "cell_type": "code",
   "execution_count": null,
   "id": "b5683729",
   "metadata": {},
   "outputs": [],
   "source": [
    "df9.describe()"
   ]
  },
  {
   "cell_type": "markdown",
   "id": "b979ff0d",
   "metadata": {},
   "source": [
    "# Read data from files into pandas dataframes"
   ]
  },
  {
   "cell_type": "markdown",
   "id": "b214ed04",
   "metadata": {},
   "source": [
    "Pandas has functions that allow us to create `dataframes` form several different types of data `files`:\n",
    "\n",
    "- CSV\n",
    "- JSON\n",
    "- HTML\n",
    "- ... and [many more](https://pandas.pydata.org/pandas-docs/stable/user_guide/io.html)\n",
    "\n",
    "All of this is possible by using the `pd.read_` methods.\n",
    "\n",
    "For instance, using the 2010 census profile and housing characteristics of the city of Los Angeles ([source](https://catalog.data.gov/dataset/2010-census-populations-by-zip-code)):"
   ]
  },
  {
   "cell_type": "code",
   "execution_count": null,
   "id": "e474f10a",
   "metadata": {},
   "outputs": [],
   "source": [
    "local_path = os.path.join(\"..\",\"data\",\"2010_Census_Populations_by_Zip_Code.csv\")\n",
    "url = 'https://raw.githubusercontent.com/samsung-ai-course/6-7-edition/refs/heads/main/Data%20Wrangling/Data%20Wrangling%20-%20Pandas-101/data/2010_Census_Populations_by_Zip_Code.csv'\n",
    "census_2010 = pd.read_csv(local_path)"
   ]
  },
  {
   "cell_type": "markdown",
   "id": "9d34aec0",
   "metadata": {},
   "source": [
    "This is the resulting DataFrame:"
   ]
  },
  {
   "cell_type": "code",
   "execution_count": null,
   "id": "501fc2ee",
   "metadata": {},
   "outputs": [],
   "source": [
    "census_2010.head()"
   ]
  },
  {
   "cell_type": "markdown",
   "id": "ecbbc1ef",
   "metadata": {},
   "source": [
    "It's shape is:"
   ]
  },
  {
   "cell_type": "code",
   "execution_count": null,
   "id": "3bde775c",
   "metadata": {},
   "outputs": [],
   "source": [
    "census_2010.shape"
   ]
  },
  {
   "cell_type": "markdown",
   "id": "170d768f",
   "metadata": {},
   "source": [
    "Let's use `.info()` to get an overview of the column variables:"
   ]
  },
  {
   "cell_type": "code",
   "execution_count": null,
   "id": "a4818700",
   "metadata": {},
   "outputs": [],
   "source": [
    "census_2010.info()"
   ]
  },
  {
   "cell_type": "markdown",
   "id": "bc5157ba",
   "metadata": {},
   "source": [
    "Wait pandas thinks the zip code is a numerical column, let's change that:"
   ]
  },
  {
   "cell_type": "code",
   "execution_count": null,
   "id": "ad0fe8ed",
   "metadata": {},
   "outputs": [],
   "source": [
    "census_2010 = census_2010.astype({'Zip Code':str})\n",
    "census_2010.dtypes"
   ]
  },
  {
   "cell_type": "markdown",
   "id": "dca0833c",
   "metadata": {},
   "source": [
    "Fixed!"
   ]
  },
  {
   "cell_type": "markdown",
   "id": "41b227ff",
   "metadata": {},
   "source": [
    "And `.describe()` for basic statistics:"
   ]
  },
  {
   "cell_type": "code",
   "execution_count": null,
   "id": "9e5d0571",
   "metadata": {},
   "outputs": [],
   "source": [
    "census_2010.describe()"
   ]
  },
  {
   "cell_type": "markdown",
   "id": "5f0edb22",
   "metadata": {},
   "source": [
    "# Writing data from pandas into files"
   ]
  },
  {
   "cell_type": "markdown",
   "id": "f6148666",
   "metadata": {},
   "source": [
    "Besides reading from the disk, Pandas allows us to save our dataframe to a file."
   ]
  },
  {
   "cell_type": "code",
   "execution_count": null,
   "id": "b8615d5c",
   "metadata": {},
   "outputs": [],
   "source": [
    "filename = 'processed_data.csv'\n",
    "\n",
    "# if you are local\n",
    "#census_2010.to_csv(os.path.join(\"..\",\"data\",filename))\n",
    "\n",
    "# if you are on a colab notebook\n",
    "#census_2010.to_csv(f'/content/{filename}')"
   ]
  },
  {
   "cell_type": "markdown",
   "id": "cb9b6ad8",
   "metadata": {},
   "source": [
    "You should now have a new file called `new_csv.csv` in your `data` folder!\n",
    "\n",
    "The same way we can read data from various files types, we can also write data to various file types (CSV, JSON, HTML, ...) All of this is possible by using the to_dataFormat method, giving as an argument the path where you want to save the file. For example, you can write to the JSON format using `to_json`, or to an Excel spreadsheet using `to_excel`, and so on."
   ]
  },
  {
   "cell_type": "markdown",
   "id": "d87c035e",
   "metadata": {},
   "source": [
    "# Useful Links\n",
    "\n",
    "- [Pandas Getting Started tutorials](https://pandas.pydata.org/pandas-docs/stable/getting_started/intro_tutorials/index.html)\n",
    "\n",
    "\n",
    "- [Intro to data structures](https://pandas.pydata.org/pandas-docs/stable/dsintro.html)"
   ]
  }
 ],
 "metadata": {
  "kernelspec": {
   "display_name": "MLCatolica24",
   "language": "python",
   "name": "python3"
  },
  "language_info": {
   "codemirror_mode": {
    "name": "ipython",
    "version": 3
   },
   "file_extension": ".py",
   "mimetype": "text/x-python",
   "name": "python",
   "nbconvert_exporter": "python",
   "pygments_lexer": "ipython3",
   "version": "3.12.3"
  }
 },
 "nbformat": 4,
 "nbformat_minor": 5
}
