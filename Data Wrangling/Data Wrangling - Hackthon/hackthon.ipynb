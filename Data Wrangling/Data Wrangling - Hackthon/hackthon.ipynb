{
 "cells": [
  {
   "cell_type": "markdown",
   "metadata": {},
   "source": [
    "# 🩺 Mission: Dr. AI and the Healthcare Conquest\n",
    "\n",
    "**Introduction:** \n",
    " \n",
    "Listen up, data scientists! Today, you’ve got a job that’s a little… unconventional. You’re taking on the role of Dr Robot House \"doctor\" who knows nothing about actual patients and cannot understand this data. Your challenge? To slice, dice, and understand a set of imaginary patient records and finally make sense of the chaotic world of healthcare data. No pressure—just all eyes on you to deliver some groundbreaking insights!  \n",
    "\n",
    "Inside this synthetic healthcare dataset, you’ll find everything from admissions and medications to test results. Your task: sort through the data, clean it up, and pull out meaningful patterns. Do you have what it takes to go from data scientist to \"doctor\" (well, sort of) and show this dataset who’s boss? Let’s find out!\n",
    "\n",
    "\n",
    "\n",
    "![](media/dr_robot_house.png)\n",
    "\n",
    "--- \n",
    "# 📊 About the Dataset\n",
    "\n",
    "\n",
    "**Dataset Overview:**  \n",
    "This dataset mimics actual healthcare records, generated using Python’s Faker library to provide realistic yet completely synthetic patient data. Here’s a quick breakdown of the dataset:\n",
    "  \n",
    "  - **Name:** Patient name.   \n",
    "  \n",
    "  - **Age:** Patient's age at admission. \n",
    "  - **Gender:** Patient's gender.  \n",
    "  - **Blood Type:** Blood type (e.g., \"A+\", \"O-\").  \n",
    "  - **Medical Condition:** Primary diagnosis, e.g., \"Diabetes,\" \"Hypertension.\"  \n",
    "  - **Date of Admission:** Date when the patient was admitted.  \n",
    "  - **Doctor:** The doctor responsible for the patient.  \n",
    "  - **Hospital:** Hospital where the patient was admitted.  \n",
    "  - **Insurance Provider:** Insurance provider, e.g., \"Aetna,\" \"Medicare.\"  \n",
    "  - **Billing Amount:** Amount billed for healthcare services.  \n",
    "  - **Room Number:** Patient's room during admission.  \n",
    "  - **Admission Type:** Type of admission, e.g., \"Emergency.\"  \n",
    "  - **Discharge Date:** Date the patient was discharged.  \n",
    "  - **Medication:** Medication prescribed to the patient.  \n",
    "  - **Test Results:** Outcome of a medical test (e.g., \"Normal,\" \"Abnormal\").  \n",
    "\n",
    "---\n",
    "\n",
    "# 📅 Timeline of Tasks\n",
    "\n",
    "Below is a suggested timeline for you to work through the dataset, explore its contents, and create insights:\n",
    "\n",
    "1. **Load the dataset files into a Pandas DataFrame** (17:45 - 18:00) \n",
    "\n",
    "3. **Understand the data** - Explore each column, NaNs, identify patterns (18:00 - 18:15)\n",
    "4. **Calculate univariate statistics and create graphs** - Highlight statistics that could reveal trends or patterns using only one variable (18:15 - 18:40)\n",
    "5. **Create multivariate statistics and graphs** - Use various plots (e.g., lineplots, barplots, scatter plots) to present data relationships (18:40 - 19:20)\n",
    "6. **Prepare notebook for presentation** - (19:20 - 19:30)\n",
    "7. **Organize presentation** - Organize how you gonna present your findings (19:30-19:40)\n",
    "8. **Organize presentation** - Presentation start (19:45)\n"
   ]
  },
  {
   "cell_type": "markdown",
   "metadata": {},
   "source": [
    "![](../media/dr_robot_house.png)"
   ]
  },
  {
   "cell_type": "code",
   "execution_count": 2,
   "metadata": {},
   "outputs": [],
   "source": [
    "import pandas as pd"
   ]
  },
  {
   "cell_type": "code",
   "execution_count": 3,
   "metadata": {},
   "outputs": [],
   "source": [
    "url = \"https://raw.githubusercontent.com/samsung-ai-course/6-7-edition/refs/heads/main/Data%20Wrangling/Data%20Wrangling%20-%20Hackthon/dataset/healthcare_dataset.csv\"\n",
    "df = pd.read_csv(url)\n",
    "#df= pd.read_csv('dataset/healthcare_dataset.csv')"
   ]
  },
  {
   "cell_type": "markdown",
   "metadata": {},
   "source": [
    "# COLAB LINK\n",
    "\n",
    "https://colab.research.google.com/github/samsung-ai-course/6-7-edition/blob/main/Data%20Wrangling/Data%20Wrangling%20-%20Hackthon/hackthon.ipynb "
   ]
  },
  {
   "cell_type": "markdown",
   "metadata": {},
   "source": []
  }
 ],
 "metadata": {
  "kernelspec": {
   "display_name": "base",
   "language": "python",
   "name": "python3"
  },
  "language_info": {
   "codemirror_mode": {
    "name": "ipython",
    "version": 3
   },
   "file_extension": ".py",
   "mimetype": "text/x-python",
   "name": "python",
   "nbconvert_exporter": "python",
   "pygments_lexer": "ipython3",
   "version": "3.11.5"
  }
 },
 "nbformat": 4,
 "nbformat_minor": 2
}
