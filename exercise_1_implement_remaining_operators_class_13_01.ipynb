{
  "cells": [
    {
      "cell_type": "markdown",
      "metadata": {
        "id": "view-in-github",
        "colab_type": "text"
      },
      "source": [
        "<a href=\"https://colab.research.google.com/github/antonioferreira2005/6-7-edition/blob/main/exercise_1_implement_remaining_operators_class_13_01.ipynb\" target=\"_parent\"><img src=\"https://colab.research.google.com/assets/colab-badge.svg\" alt=\"Open In Colab\"/></a>"
      ]
    },
    {
      "cell_type": "markdown",
      "metadata": {
        "id": "aJ7Bf1yWAdn9"
      },
      "source": [
        "# Imports"
      ]
    },
    {
      "cell_type": "code",
      "execution_count": null,
      "metadata": {
        "id": "tFdseJoeAdn_"
      },
      "outputs": [],
      "source": [
        "import math\n",
        "import numpy as np\n",
        "import matplotlib.pyplot as plt\n",
        "import graphviz\n",
        "\n",
        "%matplotlib inline"
      ]
    },
    {
      "cell_type": "markdown",
      "metadata": {
        "id": "eOb6LPrRAdoA"
      },
      "source": [
        "# Utils"
      ]
    },
    {
      "cell_type": "markdown",
      "metadata": {
        "id": "CBgpqGSHAdoB"
      },
      "source": [
        "# Exercise"
      ]
    },
    {
      "cell_type": "markdown",
      "metadata": {
        "id": "R4AkvIA6AdoB"
      },
      "source": [
        "We just implemented addition with `__add__`. Your goal is to modify this class to implement subtraction, multiplication, and division."
      ]
    },
    {
      "cell_type": "code",
      "execution_count": null,
      "metadata": {
        "id": "5LpE13nlAdoC"
      },
      "outputs": [],
      "source": [
        "class Value:\n",
        "    \"\"\" stores a single scalar value and its gradient \"\"\"\n",
        "\n",
        "    def __init__(self, data):\n",
        "        self.data = data\n",
        "\n",
        "    def __repr__(self):\n",
        "        return f\"Value({self.data})\"\n",
        "\n",
        "    def __sub__(self, other: \"Value\"):\n",
        "        return Value(self.data - other.data)\n",
        "\n",
        "    def __mul__(self, other: \"Value\"):\n",
        "        return Value(self.data * other.data)\n",
        "\n",
        "    def __truediv__(self, other: \"Value\"):\n",
        "        return Value(self.data / other.data)\n",
        "\n",
        "\n"
      ]
    },
    {
      "cell_type": "markdown",
      "metadata": {
        "id": "hrfWFu0zAdoC"
      },
      "source": [
        "test"
      ]
    },
    {
      "cell_type": "code",
      "execution_count": null,
      "metadata": {
        "colab": {
          "base_uri": "https://localhost:8080/"
        },
        "id": "zIAoTSZbAdoC",
        "outputId": "506e3880-8641-4526-e7d9-6592464ee726"
      },
      "outputs": [
        {
          "output_type": "stream",
          "name": "stdout",
          "text": [
            "You got multiplication right!\n",
            "You got division right!\n",
            "You got subtraction right!\n"
          ]
        }
      ],
      "source": [
        "a = Value(3)\n",
        "b = Value(6)\n",
        "\n",
        "try:\n",
        "    assert (a * b).data == 18, 'Something Went wrong with multiplication'\n",
        "    print('You got multiplication right!')\n",
        "except:\n",
        "    print('Something Went wrong with multiplication')\n",
        "\n",
        "try:\n",
        "    assert (b / a).data == 2, 'Something Went wrong with division'\n",
        "    print('You got division right!')\n",
        "except:\n",
        "    print('Something Went wrong with division')\n",
        "\n",
        "try:\n",
        "    assert (a - b).data == -3, 'Something Went wrong with subtraction'\n",
        "    print('You got subtraction right!')\n",
        "except:\n",
        "    print('Something Went wrong with subtraction')"
      ]
    }
  ],
  "metadata": {
    "kernelspec": {
      "display_name": "MLCatolica24",
      "language": "python",
      "name": "python3"
    },
    "language_info": {
      "codemirror_mode": {
        "name": "ipython",
        "version": 3
      },
      "file_extension": ".py",
      "mimetype": "text/x-python",
      "name": "python",
      "nbconvert_exporter": "python",
      "pygments_lexer": "ipython3",
      "version": "3.12.3"
    },
    "colab": {
      "provenance": [],
      "name": "exercise-1-implement-remaining-operators_class_13/01.ipynb",
      "include_colab_link": true
    }
  },
  "nbformat": 4,
  "nbformat_minor": 0
}