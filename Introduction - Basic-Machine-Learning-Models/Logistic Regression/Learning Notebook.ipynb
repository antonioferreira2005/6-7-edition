{
 "cells": [
  {
   "cell_type": "markdown",
   "id": "a4d6fe02-e904-4687-9f3c-b81ae2a7e4de",
   "metadata": {},
   "source": [
    "# Logistic Regression\n",
    "\n",
    "\n",
    "In this notebook you will learn:\n",
    "1. What is a logistic regression\n",
    "2. How to train a logistic regression model\n",
    "3. How to evaluate the performance of a classification model your model\n",
    "4. How to interpret a Logistic Regression's weights\n",
    "5. How to visualize its decision boundaries in 2D"
   ]
  },
  {
   "cell_type": "markdown",
   "id": "aca61a02",
   "metadata": {},
   "source": [
    "1. **Linear Regression Model**: \n",
    "   The initial model for predicting a probability $p$ using a linear combination of features $ x_1, x_2, \\ldots $ with weights $ w_0, w_1, w_2, \\ldots $ is given by:\n",
    "   $$ p = w_0 + w_1 x_1 + w_2 x_2 + \\cdots $$\n",
    "\n",
    "2. **Modifying the Model**: \n",
    "   To adjust the range of the model's output to $(0, 1)$, we model the odds $ \\frac{p}{1 - p}$, where the domain becomes $( \\mathbb{R}^+ )$:\n",
    "   $$ \\frac{p}{1 - p} = w_0 + w_1 x_1 + w_2 x_2 + \\cdots $$\n",
    "\n",
    "3. **Log Transformation**: \n",
    "   Taking the logarithm of the odds to spread the range to $(- \\infty, + \\infty)$, we have:\n",
    "   \n",
    "   $$ \\log \\left( \\frac{p}{1 - p} \\right) = w_0 + w_1 x_1 + w_2 x_2 + \\cdots $$\n",
    "\n",
    "4. **Solving for \\( p \\)**: \n",
    "   Finally, solving this equation for $p$ to get the logistic (sigmoid) function:\n",
    "   \n",
    "   $$\n",
    "   \\begin{align*}\n",
    "   \\log \\left( \\frac{p}{1 - p} \\right) &= w_0 + w_1 x_1 + w_2 x_2 + \\cdots \\\\ \\\\\n",
    "   \\frac{p}{1 - p} &= e^{w_0 + w_1 x_1 + w_2 x_2 + \\cdots} \\\\\n",
    "   p &= \\frac{e^{w_0 + w_1 x_1 + w_2 x_2 + \\cdots}}{1 + e^{w_0 + w_1 x_1 + w_2 x_2 + \\cdots}} \\\\\n",
    "   p &= \\frac{1}{1 + e^{-(w_0 + w_1 x_1 + w_2 x_2 + \\cdots)}}\n",
    "   \\end{align*}\n",
    "   $$\n",
    "\n",
    "\n",
    "This is also called the sigmoid function:\n",
    "\n",
    "$$\\text{Sigmoid}(z) = \\frac{1}{1 + e^{-(z)}} \\quad \\text{,where} \\quad z = w_0 + w_1 x_1 + w_2 x_2 + \\cdots$$\n",
    "<br>\n",
    "\n",
    "The sigmoid function receives any input $x \\in ]-\\infty, +\\infty[$ and \\\"squashes\\\" it down to the $]0, 1[$ interval:\n",
    "<div style=\"text-align: center;\">\n",
    "    <img src=\"https://miro.medium.com/v2/resize:fit:1400/1*a04iKNbchayCAJ7-0QlesA.png\" alt=\"Description of Image\" width=\"500\" style=\"display: block; margin-left: auto; margin-right: auto;\"/>\n",
    "</div>\n",
    "\n",
    "\n"
   ]
  },
  {
   "cell_type": "markdown",
   "id": "3800856c",
   "metadata": {},
   "source": [
    "# And that sums it up!\n",
    "\n",
    "Now don't get too afraid of all this math, you don't need to know these details in practice"
   ]
  },
  {
   "cell_type": "markdown",
   "id": "856df4db",
   "metadata": {},
   "source": [
    "<div style=\"text-align: center;\">\n",
    "    <img src=\"https://i.imgflip.com/98fl3m.jpg\" alt=\"Description of Image\" width=\"500\" style=\"display: block; margin-left: auto; margin-right: auto;\"/>\n",
    "</div>"
   ]
  },
  {
   "cell_type": "markdown",
   "id": "3cfcd7f6",
   "metadata": {},
   "source": [
    "## Why Logistic Regression\n",
    "\n",
    "1. Simple model\n",
    "2. Good interpretation of the coefficients\n",
    "3. Computationally efficient\n",
    "4. Low risk of overfitting\n",
    "5. Great baseline model for classification"
   ]
  },
  {
   "cell_type": "markdown",
   "id": "74469d7a-0b33-4714-8d1c-357a8b1cfd3d",
   "metadata": {},
   "source": [
    "# Imports"
   ]
  },
  {
   "cell_type": "code",
   "execution_count": 1,
   "id": "07e628f1-0b1d-47d8-8290-49788211482b",
   "metadata": {},
   "outputs": [],
   "source": [
    "from sklearn.datasets import load_iris\n",
    "from sklearn.linear_model import LogisticRegression\n",
    "\n",
    "import pandas as pd\n",
    "import numpy as np\n",
    "import matplotlib.pyplot as plt"
   ]
  },
  {
   "cell_type": "markdown",
   "id": "b2693c71",
   "metadata": {},
   "source": [
    "# Some function we will use later"
   ]
  },
  {
   "cell_type": "code",
   "execution_count": 2,
   "id": "8b32ce30",
   "metadata": {},
   "outputs": [],
   "source": [
    "def plot_decision_boundary(feature_a : pd.Series,\n",
    "                           feature_b : pd.Series,\n",
    "                           target : pd.Series,\n",
    "                           threshold : float = 0.5\n",
    "                          ):\n",
    "\n",
    "    X = pd.concat([feature_a,feature_b],axis=1)\n",
    "    model = LogisticRegression()\n",
    "    model.fit(X,target)\n",
    "\n",
    "    xx, yy = np.meshgrid(np.linspace(feature_a.min() - 1, feature_a.max() +1, 100), \n",
    "                         np.linspace(feature_b.min()-1, feature_b.max()+1, 100))\n",
    "    grid = np.c_[xx.ravel(), yy.ravel()]\n",
    "    probs = model.predict_proba(grid)[:, 1].reshape(xx.shape)\n",
    "    plt.contourf(xx, yy, probs, levels=[0, threshold, 1], cmap='coolwarm', alpha=0.8)\n",
    "    plt.scatter(feature_a, feature_b, c=target, edgecolors='k', marker='o', s=50)\n",
    "    plt.xlabel(f'{feature_a.name}')\n",
    "    plt.ylabel(f'{feature_b.name}')\n",
    "    plt.title('Decision Boundary of the Logistic Regression')\n",
    "    plt.show()"
   ]
  },
  {
   "cell_type": "markdown",
   "id": "cd01e573-83dc-4376-bebe-bc0393875edb",
   "metadata": {},
   "source": [
    "# Load the data"
   ]
  },
  {
   "cell_type": "code",
   "execution_count": 3,
   "id": "09a4d3f3-486c-4ee7-8265-9a47a43b7fc5",
   "metadata": {},
   "outputs": [],
   "source": [
    "# Load the iris dataset from scikit-learn\n",
    "iris = load_iris()\n",
    "\n",
    "# Create a DataFrame from the features and target variable\n",
    "df = pd.DataFrame(data=iris['data'], columns=iris['feature_names'])\n",
    "df['target'] = [ iris['target_names'][i] for i in iris['target']]"
   ]
  },
  {
   "cell_type": "code",
   "execution_count": 4,
   "id": "230591fd",
   "metadata": {},
   "outputs": [
    {
     "data": {
      "text/html": [
       "<div>\n",
       "<style scoped>\n",
       "    .dataframe tbody tr th:only-of-type {\n",
       "        vertical-align: middle;\n",
       "    }\n",
       "\n",
       "    .dataframe tbody tr th {\n",
       "        vertical-align: top;\n",
       "    }\n",
       "\n",
       "    .dataframe thead th {\n",
       "        text-align: right;\n",
       "    }\n",
       "</style>\n",
       "<table border=\"1\" class=\"dataframe\">\n",
       "  <thead>\n",
       "    <tr style=\"text-align: right;\">\n",
       "      <th></th>\n",
       "      <th>sepal length (cm)</th>\n",
       "      <th>sepal width (cm)</th>\n",
       "      <th>petal length (cm)</th>\n",
       "      <th>petal width (cm)</th>\n",
       "      <th>target</th>\n",
       "    </tr>\n",
       "  </thead>\n",
       "  <tbody>\n",
       "    <tr>\n",
       "      <th>0</th>\n",
       "      <td>5.1</td>\n",
       "      <td>3.5</td>\n",
       "      <td>1.4</td>\n",
       "      <td>0.2</td>\n",
       "      <td>setosa</td>\n",
       "    </tr>\n",
       "    <tr>\n",
       "      <th>1</th>\n",
       "      <td>4.9</td>\n",
       "      <td>3.0</td>\n",
       "      <td>1.4</td>\n",
       "      <td>0.2</td>\n",
       "      <td>setosa</td>\n",
       "    </tr>\n",
       "    <tr>\n",
       "      <th>2</th>\n",
       "      <td>4.7</td>\n",
       "      <td>3.2</td>\n",
       "      <td>1.3</td>\n",
       "      <td>0.2</td>\n",
       "      <td>setosa</td>\n",
       "    </tr>\n",
       "  </tbody>\n",
       "</table>\n",
       "</div>"
      ],
      "text/plain": [
       "   sepal length (cm)  sepal width (cm)  petal length (cm)  petal width (cm)  \\\n",
       "0                5.1               3.5                1.4               0.2   \n",
       "1                4.9               3.0                1.4               0.2   \n",
       "2                4.7               3.2                1.3               0.2   \n",
       "\n",
       "   target  \n",
       "0  setosa  \n",
       "1  setosa  \n",
       "2  setosa  "
      ]
     },
     "execution_count": 4,
     "metadata": {},
     "output_type": "execute_result"
    }
   ],
   "source": [
    "df.head(3)"
   ]
  },
  {
   "cell_type": "code",
   "execution_count": 5,
   "id": "44970b14-30df-4089-919b-3881dbe8a1f0",
   "metadata": {},
   "outputs": [
    {
     "data": {
      "text/plain": [
       "(150, 5)"
      ]
     },
     "execution_count": 5,
     "metadata": {},
     "output_type": "execute_result"
    }
   ],
   "source": [
    "df.shape"
   ]
  },
  {
   "cell_type": "markdown",
   "id": "18b4e421-fb71-4662-b089-86704cf8a0aa",
   "metadata": {},
   "source": [
    "## Documentation about the data"
   ]
  },
  {
   "cell_type": "code",
   "execution_count": 6,
   "id": "89399d40-870f-4687-bfb1-ca92ac662949",
   "metadata": {
    "scrolled": true
   },
   "outputs": [
    {
     "name": "stdout",
     "output_type": "stream",
     "text": [
      ".. _iris_dataset:\n",
      "\n",
      "Iris plants dataset\n",
      "--------------------\n",
      "\n",
      "**Data Set Characteristics:**\n",
      "\n",
      ":Number of Instances: 150 (50 in each of three classes)\n",
      ":Number of Attributes: 4 numeric, predictive attributes and the class\n",
      ":Attribute Information:\n",
      "    - sepal length in cm\n",
      "    - sepal width in cm\n",
      "    - petal length in cm\n",
      "    - petal width in cm\n",
      "    - class:\n",
      "            - Iris-Setosa\n",
      "            - Iris-Versicolour\n",
      "            - Iris-Virginica\n",
      "\n",
      ":Summary Statistics:\n",
      "\n",
      "============== ==== ==== ======= ===== ====================\n",
      "                Min  Max   Mean    SD   Class Correlation\n",
      "============== ==== ==== ======= ===== ====================\n",
      "sepal length:   4.3  7.9   5.84   0.83    0.7826\n",
      "sepal width:    2.0  4.4   3.05   0.43   -0.4194\n",
      "petal length:   1.0  6.9   3.76   1.76    0.9490  (high!)\n",
      "petal width:    0.1  2.5   1.20   0.76    0.9565  (high!)\n",
      "============== ==== ==== ======= ===== ====================\n",
      "\n",
      ":Missing Attribute Values: None\n",
      ":Class Distribution: 33.3% for each of 3 classes.\n",
      ":Creator: R.A. Fisher\n",
      ":Donor: Michael Marshall (MARSHALL%PLU@io.arc.nasa.gov)\n",
      ":Date: July, 1988\n",
      "\n",
      "The famous Iris database, first used by Sir R.A. Fisher. The dataset is taken\n",
      "from Fisher's paper. Note that it's the same as in R, but not as in the UCI\n",
      "Machine Learning Repository, which has two wrong data points.\n",
      "\n",
      "This is perhaps the best known database to be found in the\n",
      "pattern recognition literature.  Fisher's paper is a classic in the field and\n",
      "is referenced frequently to this day.  (See Duda & Hart, for example.)  The\n",
      "data set contains 3 classes of 50 instances each, where each class refers to a\n",
      "type of iris plant.  One class is linearly separable from the other 2; the\n",
      "latter are NOT linearly separable from each other.\n",
      "\n",
      "|details-start|\n",
      "**References**\n",
      "|details-split|\n",
      "\n",
      "- Fisher, R.A. \"The use of multiple measurements in taxonomic problems\"\n",
      "  Annual Eugenics, 7, Part II, 179-188 (1936); also in \"Contributions to\n",
      "  Mathematical Statistics\" (John Wiley, NY, 1950).\n",
      "- Duda, R.O., & Hart, P.E. (1973) Pattern Classification and Scene Analysis.\n",
      "  (Q327.D83) John Wiley & Sons.  ISBN 0-471-22361-1.  See page 218.\n",
      "- Dasarathy, B.V. (1980) \"Nosing Around the Neighborhood: A New System\n",
      "  Structure and Classification Rule for Recognition in Partially Exposed\n",
      "  Environments\".  IEEE Transactions on Pattern Analysis and Machine\n",
      "  Intelligence, Vol. PAMI-2, No. 1, 67-71.\n",
      "- Gates, G.W. (1972) \"The Reduced Nearest Neighbor Rule\".  IEEE Transactions\n",
      "  on Information Theory, May 1972, 431-433.\n",
      "- See also: 1988 MLC Proceedings, 54-64.  Cheeseman et al\"s AUTOCLASS II\n",
      "  conceptual clustering system finds 3 classes in the data.\n",
      "- Many, many more ...\n",
      "\n",
      "|details-end|\n",
      "\n"
     ]
    }
   ],
   "source": [
    "print(iris['DESCR'])"
   ]
  },
  {
   "cell_type": "markdown",
   "id": "452f42b9-3843-4c51-9c99-e4abd4bc55c2",
   "metadata": {},
   "source": [
    "# Let's keep it simple\n",
    "\n",
    "There are 3 types of plants but we just want to classify if a given plant is `Iris-Setosa` or `Iris-Versicolour`. So let's remove data related to `Iris-Virginica`."
   ]
  },
  {
   "cell_type": "code",
   "execution_count": 7,
   "id": "fb7076eb-3dff-4947-8118-ace18c63e0aa",
   "metadata": {},
   "outputs": [],
   "source": [
    "# removing rows associated with the plant we are not interested in\n",
    "df_preprocessed = df[df.target != 'virginica']"
   ]
  },
  {
   "cell_type": "code",
   "execution_count": 8,
   "id": "5c6d004c-211f-4ebe-b93e-a4e488049d8d",
   "metadata": {},
   "outputs": [
    {
     "data": {
      "text/html": [
       "<div>\n",
       "<style scoped>\n",
       "    .dataframe tbody tr th:only-of-type {\n",
       "        vertical-align: middle;\n",
       "    }\n",
       "\n",
       "    .dataframe tbody tr th {\n",
       "        vertical-align: top;\n",
       "    }\n",
       "\n",
       "    .dataframe thead th {\n",
       "        text-align: right;\n",
       "    }\n",
       "</style>\n",
       "<table border=\"1\" class=\"dataframe\">\n",
       "  <thead>\n",
       "    <tr style=\"text-align: right;\">\n",
       "      <th></th>\n",
       "      <th>sepal length (cm)</th>\n",
       "      <th>sepal width (cm)</th>\n",
       "      <th>petal length (cm)</th>\n",
       "      <th>petal width (cm)</th>\n",
       "      <th>target</th>\n",
       "    </tr>\n",
       "  </thead>\n",
       "  <tbody>\n",
       "    <tr>\n",
       "      <th>0</th>\n",
       "      <td>5.1</td>\n",
       "      <td>3.5</td>\n",
       "      <td>1.4</td>\n",
       "      <td>0.2</td>\n",
       "      <td>setosa</td>\n",
       "    </tr>\n",
       "    <tr>\n",
       "      <th>1</th>\n",
       "      <td>4.9</td>\n",
       "      <td>3.0</td>\n",
       "      <td>1.4</td>\n",
       "      <td>0.2</td>\n",
       "      <td>setosa</td>\n",
       "    </tr>\n",
       "    <tr>\n",
       "      <th>2</th>\n",
       "      <td>4.7</td>\n",
       "      <td>3.2</td>\n",
       "      <td>1.3</td>\n",
       "      <td>0.2</td>\n",
       "      <td>setosa</td>\n",
       "    </tr>\n",
       "  </tbody>\n",
       "</table>\n",
       "</div>"
      ],
      "text/plain": [
       "   sepal length (cm)  sepal width (cm)  petal length (cm)  petal width (cm)  \\\n",
       "0                5.1               3.5                1.4               0.2   \n",
       "1                4.9               3.0                1.4               0.2   \n",
       "2                4.7               3.2                1.3               0.2   \n",
       "\n",
       "   target  \n",
       "0  setosa  \n",
       "1  setosa  \n",
       "2  setosa  "
      ]
     },
     "execution_count": 8,
     "metadata": {},
     "output_type": "execute_result"
    }
   ],
   "source": [
    "df_preprocessed.head(3)"
   ]
  },
  {
   "cell_type": "code",
   "execution_count": 9,
   "id": "ac24868e-c510-4221-b096-b181549f0ec9",
   "metadata": {},
   "outputs": [
    {
     "data": {
      "text/plain": [
       "(100, 5)"
      ]
     },
     "execution_count": 9,
     "metadata": {},
     "output_type": "execute_result"
    }
   ],
   "source": [
    "df_preprocessed.shape"
   ]
  },
  {
   "cell_type": "markdown",
   "id": "8f130ce5-b272-4525-913f-4f18e210164f",
   "metadata": {},
   "source": [
    "# Train a model"
   ]
  },
  {
   "cell_type": "markdown",
   "id": "b1c56e55-686a-4c56-af98-7cb896ea7cb3",
   "metadata": {},
   "source": [
    "1st we have to decide what will be our positive class (1) and what will be our negative class (0)\n",
    "\n",
    "- **Positive class**: Iris-Setosa\n",
    "- **Negative class**: Iris-Versicolour\n",
    "\n",
    "Now for the model to understand these targets we have to actually encode them as either 0 or 1:"
   ]
  },
  {
   "cell_type": "code",
   "execution_count": 13,
   "id": "8a14de89-a0a8-4b97-b53b-da5fccba4631",
   "metadata": {},
   "outputs": [],
   "source": [
    "df_preprocessed.loc[:,'target'] = df_preprocessed.loc[:,'target'].replace({'setosa':1.0,'versicolor':0.0})"
   ]
  },
  {
   "cell_type": "code",
   "execution_count": 14,
   "id": "07fd9413-16f2-4f8e-ad89-8b69ce6581ce",
   "metadata": {},
   "outputs": [
    {
     "data": {
      "text/html": [
       "<div>\n",
       "<style scoped>\n",
       "    .dataframe tbody tr th:only-of-type {\n",
       "        vertical-align: middle;\n",
       "    }\n",
       "\n",
       "    .dataframe tbody tr th {\n",
       "        vertical-align: top;\n",
       "    }\n",
       "\n",
       "    .dataframe thead th {\n",
       "        text-align: right;\n",
       "    }\n",
       "</style>\n",
       "<table border=\"1\" class=\"dataframe\">\n",
       "  <thead>\n",
       "    <tr style=\"text-align: right;\">\n",
       "      <th></th>\n",
       "      <th>sepal length (cm)</th>\n",
       "      <th>sepal width (cm)</th>\n",
       "      <th>petal length (cm)</th>\n",
       "      <th>petal width (cm)</th>\n",
       "      <th>target</th>\n",
       "    </tr>\n",
       "  </thead>\n",
       "  <tbody>\n",
       "    <tr>\n",
       "      <th>0</th>\n",
       "      <td>5.1</td>\n",
       "      <td>3.5</td>\n",
       "      <td>1.4</td>\n",
       "      <td>0.2</td>\n",
       "      <td>1.0</td>\n",
       "    </tr>\n",
       "    <tr>\n",
       "      <th>1</th>\n",
       "      <td>4.9</td>\n",
       "      <td>3.0</td>\n",
       "      <td>1.4</td>\n",
       "      <td>0.2</td>\n",
       "      <td>1.0</td>\n",
       "    </tr>\n",
       "    <tr>\n",
       "      <th>2</th>\n",
       "      <td>4.7</td>\n",
       "      <td>3.2</td>\n",
       "      <td>1.3</td>\n",
       "      <td>0.2</td>\n",
       "      <td>1.0</td>\n",
       "    </tr>\n",
       "  </tbody>\n",
       "</table>\n",
       "</div>"
      ],
      "text/plain": [
       "   sepal length (cm)  sepal width (cm)  petal length (cm)  petal width (cm)  \\\n",
       "0                5.1               3.5                1.4               0.2   \n",
       "1                4.9               3.0                1.4               0.2   \n",
       "2                4.7               3.2                1.3               0.2   \n",
       "\n",
       "   target  \n",
       "0     1.0  \n",
       "1     1.0  \n",
       "2     1.0  "
      ]
     },
     "execution_count": 14,
     "metadata": {},
     "output_type": "execute_result"
    }
   ],
   "source": [
    "df_preprocessed.head(3)"
   ]
  },
  {
   "cell_type": "markdown",
   "id": "a21bfd88-24f0-4647-a210-ac391c4d4019",
   "metadata": {},
   "source": [
    "Awesome! We are ready to train a Logistic Regression"
   ]
  },
  {
   "cell_type": "code",
   "execution_count": 15,
   "id": "b3bb3d9d-6757-432d-953b-d7c09cd7c23a",
   "metadata": {},
   "outputs": [],
   "source": [
    "X = df_preprocessed[['sepal length (cm)', 'sepal width (cm)', 'petal length (cm)', 'petal width (cm)']]\n",
    "y = df_preprocessed['target'].astype(float)"
   ]
  },
  {
   "cell_type": "code",
   "execution_count": 16,
   "id": "29a784ad-c607-440a-98b9-6c700a88e096",
   "metadata": {},
   "outputs": [
    {
     "data": {
      "text/html": [
       "<style>#sk-container-id-1 {\n",
       "  /* Definition of color scheme common for light and dark mode */\n",
       "  --sklearn-color-text: black;\n",
       "  --sklearn-color-line: gray;\n",
       "  /* Definition of color scheme for unfitted estimators */\n",
       "  --sklearn-color-unfitted-level-0: #fff5e6;\n",
       "  --sklearn-color-unfitted-level-1: #f6e4d2;\n",
       "  --sklearn-color-unfitted-level-2: #ffe0b3;\n",
       "  --sklearn-color-unfitted-level-3: chocolate;\n",
       "  /* Definition of color scheme for fitted estimators */\n",
       "  --sklearn-color-fitted-level-0: #f0f8ff;\n",
       "  --sklearn-color-fitted-level-1: #d4ebff;\n",
       "  --sklearn-color-fitted-level-2: #b3dbfd;\n",
       "  --sklearn-color-fitted-level-3: cornflowerblue;\n",
       "\n",
       "  /* Specific color for light theme */\n",
       "  --sklearn-color-text-on-default-background: var(--sg-text-color, var(--theme-code-foreground, var(--jp-content-font-color1, black)));\n",
       "  --sklearn-color-background: var(--sg-background-color, var(--theme-background, var(--jp-layout-color0, white)));\n",
       "  --sklearn-color-border-box: var(--sg-text-color, var(--theme-code-foreground, var(--jp-content-font-color1, black)));\n",
       "  --sklearn-color-icon: #696969;\n",
       "\n",
       "  @media (prefers-color-scheme: dark) {\n",
       "    /* Redefinition of color scheme for dark theme */\n",
       "    --sklearn-color-text-on-default-background: var(--sg-text-color, var(--theme-code-foreground, var(--jp-content-font-color1, white)));\n",
       "    --sklearn-color-background: var(--sg-background-color, var(--theme-background, var(--jp-layout-color0, #111)));\n",
       "    --sklearn-color-border-box: var(--sg-text-color, var(--theme-code-foreground, var(--jp-content-font-color1, white)));\n",
       "    --sklearn-color-icon: #878787;\n",
       "  }\n",
       "}\n",
       "\n",
       "#sk-container-id-1 {\n",
       "  color: var(--sklearn-color-text);\n",
       "}\n",
       "\n",
       "#sk-container-id-1 pre {\n",
       "  padding: 0;\n",
       "}\n",
       "\n",
       "#sk-container-id-1 input.sk-hidden--visually {\n",
       "  border: 0;\n",
       "  clip: rect(1px 1px 1px 1px);\n",
       "  clip: rect(1px, 1px, 1px, 1px);\n",
       "  height: 1px;\n",
       "  margin: -1px;\n",
       "  overflow: hidden;\n",
       "  padding: 0;\n",
       "  position: absolute;\n",
       "  width: 1px;\n",
       "}\n",
       "\n",
       "#sk-container-id-1 div.sk-dashed-wrapped {\n",
       "  border: 1px dashed var(--sklearn-color-line);\n",
       "  margin: 0 0.4em 0.5em 0.4em;\n",
       "  box-sizing: border-box;\n",
       "  padding-bottom: 0.4em;\n",
       "  background-color: var(--sklearn-color-background);\n",
       "}\n",
       "\n",
       "#sk-container-id-1 div.sk-container {\n",
       "  /* jupyter's `normalize.less` sets `[hidden] { display: none; }`\n",
       "     but bootstrap.min.css set `[hidden] { display: none !important; }`\n",
       "     so we also need the `!important` here to be able to override the\n",
       "     default hidden behavior on the sphinx rendered scikit-learn.org.\n",
       "     See: https://github.com/scikit-learn/scikit-learn/issues/21755 */\n",
       "  display: inline-block !important;\n",
       "  position: relative;\n",
       "}\n",
       "\n",
       "#sk-container-id-1 div.sk-text-repr-fallback {\n",
       "  display: none;\n",
       "}\n",
       "\n",
       "div.sk-parallel-item,\n",
       "div.sk-serial,\n",
       "div.sk-item {\n",
       "  /* draw centered vertical line to link estimators */\n",
       "  background-image: linear-gradient(var(--sklearn-color-text-on-default-background), var(--sklearn-color-text-on-default-background));\n",
       "  background-size: 2px 100%;\n",
       "  background-repeat: no-repeat;\n",
       "  background-position: center center;\n",
       "}\n",
       "\n",
       "/* Parallel-specific style estimator block */\n",
       "\n",
       "#sk-container-id-1 div.sk-parallel-item::after {\n",
       "  content: \"\";\n",
       "  width: 100%;\n",
       "  border-bottom: 2px solid var(--sklearn-color-text-on-default-background);\n",
       "  flex-grow: 1;\n",
       "}\n",
       "\n",
       "#sk-container-id-1 div.sk-parallel {\n",
       "  display: flex;\n",
       "  align-items: stretch;\n",
       "  justify-content: center;\n",
       "  background-color: var(--sklearn-color-background);\n",
       "  position: relative;\n",
       "}\n",
       "\n",
       "#sk-container-id-1 div.sk-parallel-item {\n",
       "  display: flex;\n",
       "  flex-direction: column;\n",
       "}\n",
       "\n",
       "#sk-container-id-1 div.sk-parallel-item:first-child::after {\n",
       "  align-self: flex-end;\n",
       "  width: 50%;\n",
       "}\n",
       "\n",
       "#sk-container-id-1 div.sk-parallel-item:last-child::after {\n",
       "  align-self: flex-start;\n",
       "  width: 50%;\n",
       "}\n",
       "\n",
       "#sk-container-id-1 div.sk-parallel-item:only-child::after {\n",
       "  width: 0;\n",
       "}\n",
       "\n",
       "/* Serial-specific style estimator block */\n",
       "\n",
       "#sk-container-id-1 div.sk-serial {\n",
       "  display: flex;\n",
       "  flex-direction: column;\n",
       "  align-items: center;\n",
       "  background-color: var(--sklearn-color-background);\n",
       "  padding-right: 1em;\n",
       "  padding-left: 1em;\n",
       "}\n",
       "\n",
       "\n",
       "/* Toggleable style: style used for estimator/Pipeline/ColumnTransformer box that is\n",
       "clickable and can be expanded/collapsed.\n",
       "- Pipeline and ColumnTransformer use this feature and define the default style\n",
       "- Estimators will overwrite some part of the style using the `sk-estimator` class\n",
       "*/\n",
       "\n",
       "/* Pipeline and ColumnTransformer style (default) */\n",
       "\n",
       "#sk-container-id-1 div.sk-toggleable {\n",
       "  /* Default theme specific background. It is overwritten whether we have a\n",
       "  specific estimator or a Pipeline/ColumnTransformer */\n",
       "  background-color: var(--sklearn-color-background);\n",
       "}\n",
       "\n",
       "/* Toggleable label */\n",
       "#sk-container-id-1 label.sk-toggleable__label {\n",
       "  cursor: pointer;\n",
       "  display: block;\n",
       "  width: 100%;\n",
       "  margin-bottom: 0;\n",
       "  padding: 0.5em;\n",
       "  box-sizing: border-box;\n",
       "  text-align: center;\n",
       "}\n",
       "\n",
       "#sk-container-id-1 label.sk-toggleable__label-arrow:before {\n",
       "  /* Arrow on the left of the label */\n",
       "  content: \"▸\";\n",
       "  float: left;\n",
       "  margin-right: 0.25em;\n",
       "  color: var(--sklearn-color-icon);\n",
       "}\n",
       "\n",
       "#sk-container-id-1 label.sk-toggleable__label-arrow:hover:before {\n",
       "  color: var(--sklearn-color-text);\n",
       "}\n",
       "\n",
       "/* Toggleable content - dropdown */\n",
       "\n",
       "#sk-container-id-1 div.sk-toggleable__content {\n",
       "  max-height: 0;\n",
       "  max-width: 0;\n",
       "  overflow: hidden;\n",
       "  text-align: left;\n",
       "  /* unfitted */\n",
       "  background-color: var(--sklearn-color-unfitted-level-0);\n",
       "}\n",
       "\n",
       "#sk-container-id-1 div.sk-toggleable__content.fitted {\n",
       "  /* fitted */\n",
       "  background-color: var(--sklearn-color-fitted-level-0);\n",
       "}\n",
       "\n",
       "#sk-container-id-1 div.sk-toggleable__content pre {\n",
       "  margin: 0.2em;\n",
       "  border-radius: 0.25em;\n",
       "  color: var(--sklearn-color-text);\n",
       "  /* unfitted */\n",
       "  background-color: var(--sklearn-color-unfitted-level-0);\n",
       "}\n",
       "\n",
       "#sk-container-id-1 div.sk-toggleable__content.fitted pre {\n",
       "  /* unfitted */\n",
       "  background-color: var(--sklearn-color-fitted-level-0);\n",
       "}\n",
       "\n",
       "#sk-container-id-1 input.sk-toggleable__control:checked~div.sk-toggleable__content {\n",
       "  /* Expand drop-down */\n",
       "  max-height: 200px;\n",
       "  max-width: 100%;\n",
       "  overflow: auto;\n",
       "}\n",
       "\n",
       "#sk-container-id-1 input.sk-toggleable__control:checked~label.sk-toggleable__label-arrow:before {\n",
       "  content: \"▾\";\n",
       "}\n",
       "\n",
       "/* Pipeline/ColumnTransformer-specific style */\n",
       "\n",
       "#sk-container-id-1 div.sk-label input.sk-toggleable__control:checked~label.sk-toggleable__label {\n",
       "  color: var(--sklearn-color-text);\n",
       "  background-color: var(--sklearn-color-unfitted-level-2);\n",
       "}\n",
       "\n",
       "#sk-container-id-1 div.sk-label.fitted input.sk-toggleable__control:checked~label.sk-toggleable__label {\n",
       "  background-color: var(--sklearn-color-fitted-level-2);\n",
       "}\n",
       "\n",
       "/* Estimator-specific style */\n",
       "\n",
       "/* Colorize estimator box */\n",
       "#sk-container-id-1 div.sk-estimator input.sk-toggleable__control:checked~label.sk-toggleable__label {\n",
       "  /* unfitted */\n",
       "  background-color: var(--sklearn-color-unfitted-level-2);\n",
       "}\n",
       "\n",
       "#sk-container-id-1 div.sk-estimator.fitted input.sk-toggleable__control:checked~label.sk-toggleable__label {\n",
       "  /* fitted */\n",
       "  background-color: var(--sklearn-color-fitted-level-2);\n",
       "}\n",
       "\n",
       "#sk-container-id-1 div.sk-label label.sk-toggleable__label,\n",
       "#sk-container-id-1 div.sk-label label {\n",
       "  /* The background is the default theme color */\n",
       "  color: var(--sklearn-color-text-on-default-background);\n",
       "}\n",
       "\n",
       "/* On hover, darken the color of the background */\n",
       "#sk-container-id-1 div.sk-label:hover label.sk-toggleable__label {\n",
       "  color: var(--sklearn-color-text);\n",
       "  background-color: var(--sklearn-color-unfitted-level-2);\n",
       "}\n",
       "\n",
       "/* Label box, darken color on hover, fitted */\n",
       "#sk-container-id-1 div.sk-label.fitted:hover label.sk-toggleable__label.fitted {\n",
       "  color: var(--sklearn-color-text);\n",
       "  background-color: var(--sklearn-color-fitted-level-2);\n",
       "}\n",
       "\n",
       "/* Estimator label */\n",
       "\n",
       "#sk-container-id-1 div.sk-label label {\n",
       "  font-family: monospace;\n",
       "  font-weight: bold;\n",
       "  display: inline-block;\n",
       "  line-height: 1.2em;\n",
       "}\n",
       "\n",
       "#sk-container-id-1 div.sk-label-container {\n",
       "  text-align: center;\n",
       "}\n",
       "\n",
       "/* Estimator-specific */\n",
       "#sk-container-id-1 div.sk-estimator {\n",
       "  font-family: monospace;\n",
       "  border: 1px dotted var(--sklearn-color-border-box);\n",
       "  border-radius: 0.25em;\n",
       "  box-sizing: border-box;\n",
       "  margin-bottom: 0.5em;\n",
       "  /* unfitted */\n",
       "  background-color: var(--sklearn-color-unfitted-level-0);\n",
       "}\n",
       "\n",
       "#sk-container-id-1 div.sk-estimator.fitted {\n",
       "  /* fitted */\n",
       "  background-color: var(--sklearn-color-fitted-level-0);\n",
       "}\n",
       "\n",
       "/* on hover */\n",
       "#sk-container-id-1 div.sk-estimator:hover {\n",
       "  /* unfitted */\n",
       "  background-color: var(--sklearn-color-unfitted-level-2);\n",
       "}\n",
       "\n",
       "#sk-container-id-1 div.sk-estimator.fitted:hover {\n",
       "  /* fitted */\n",
       "  background-color: var(--sklearn-color-fitted-level-2);\n",
       "}\n",
       "\n",
       "/* Specification for estimator info (e.g. \"i\" and \"?\") */\n",
       "\n",
       "/* Common style for \"i\" and \"?\" */\n",
       "\n",
       ".sk-estimator-doc-link,\n",
       "a:link.sk-estimator-doc-link,\n",
       "a:visited.sk-estimator-doc-link {\n",
       "  float: right;\n",
       "  font-size: smaller;\n",
       "  line-height: 1em;\n",
       "  font-family: monospace;\n",
       "  background-color: var(--sklearn-color-background);\n",
       "  border-radius: 1em;\n",
       "  height: 1em;\n",
       "  width: 1em;\n",
       "  text-decoration: none !important;\n",
       "  margin-left: 1ex;\n",
       "  /* unfitted */\n",
       "  border: var(--sklearn-color-unfitted-level-1) 1pt solid;\n",
       "  color: var(--sklearn-color-unfitted-level-1);\n",
       "}\n",
       "\n",
       ".sk-estimator-doc-link.fitted,\n",
       "a:link.sk-estimator-doc-link.fitted,\n",
       "a:visited.sk-estimator-doc-link.fitted {\n",
       "  /* fitted */\n",
       "  border: var(--sklearn-color-fitted-level-1) 1pt solid;\n",
       "  color: var(--sklearn-color-fitted-level-1);\n",
       "}\n",
       "\n",
       "/* On hover */\n",
       "div.sk-estimator:hover .sk-estimator-doc-link:hover,\n",
       ".sk-estimator-doc-link:hover,\n",
       "div.sk-label-container:hover .sk-estimator-doc-link:hover,\n",
       ".sk-estimator-doc-link:hover {\n",
       "  /* unfitted */\n",
       "  background-color: var(--sklearn-color-unfitted-level-3);\n",
       "  color: var(--sklearn-color-background);\n",
       "  text-decoration: none;\n",
       "}\n",
       "\n",
       "div.sk-estimator.fitted:hover .sk-estimator-doc-link.fitted:hover,\n",
       ".sk-estimator-doc-link.fitted:hover,\n",
       "div.sk-label-container:hover .sk-estimator-doc-link.fitted:hover,\n",
       ".sk-estimator-doc-link.fitted:hover {\n",
       "  /* fitted */\n",
       "  background-color: var(--sklearn-color-fitted-level-3);\n",
       "  color: var(--sklearn-color-background);\n",
       "  text-decoration: none;\n",
       "}\n",
       "\n",
       "/* Span, style for the box shown on hovering the info icon */\n",
       ".sk-estimator-doc-link span {\n",
       "  display: none;\n",
       "  z-index: 9999;\n",
       "  position: relative;\n",
       "  font-weight: normal;\n",
       "  right: .2ex;\n",
       "  padding: .5ex;\n",
       "  margin: .5ex;\n",
       "  width: min-content;\n",
       "  min-width: 20ex;\n",
       "  max-width: 50ex;\n",
       "  color: var(--sklearn-color-text);\n",
       "  box-shadow: 2pt 2pt 4pt #999;\n",
       "  /* unfitted */\n",
       "  background: var(--sklearn-color-unfitted-level-0);\n",
       "  border: .5pt solid var(--sklearn-color-unfitted-level-3);\n",
       "}\n",
       "\n",
       ".sk-estimator-doc-link.fitted span {\n",
       "  /* fitted */\n",
       "  background: var(--sklearn-color-fitted-level-0);\n",
       "  border: var(--sklearn-color-fitted-level-3);\n",
       "}\n",
       "\n",
       ".sk-estimator-doc-link:hover span {\n",
       "  display: block;\n",
       "}\n",
       "\n",
       "/* \"?\"-specific style due to the `<a>` HTML tag */\n",
       "\n",
       "#sk-container-id-1 a.estimator_doc_link {\n",
       "  float: right;\n",
       "  font-size: 1rem;\n",
       "  line-height: 1em;\n",
       "  font-family: monospace;\n",
       "  background-color: var(--sklearn-color-background);\n",
       "  border-radius: 1rem;\n",
       "  height: 1rem;\n",
       "  width: 1rem;\n",
       "  text-decoration: none;\n",
       "  /* unfitted */\n",
       "  color: var(--sklearn-color-unfitted-level-1);\n",
       "  border: var(--sklearn-color-unfitted-level-1) 1pt solid;\n",
       "}\n",
       "\n",
       "#sk-container-id-1 a.estimator_doc_link.fitted {\n",
       "  /* fitted */\n",
       "  border: var(--sklearn-color-fitted-level-1) 1pt solid;\n",
       "  color: var(--sklearn-color-fitted-level-1);\n",
       "}\n",
       "\n",
       "/* On hover */\n",
       "#sk-container-id-1 a.estimator_doc_link:hover {\n",
       "  /* unfitted */\n",
       "  background-color: var(--sklearn-color-unfitted-level-3);\n",
       "  color: var(--sklearn-color-background);\n",
       "  text-decoration: none;\n",
       "}\n",
       "\n",
       "#sk-container-id-1 a.estimator_doc_link.fitted:hover {\n",
       "  /* fitted */\n",
       "  background-color: var(--sklearn-color-fitted-level-3);\n",
       "}\n",
       "</style><div id=\"sk-container-id-1\" class=\"sk-top-container\"><div class=\"sk-text-repr-fallback\"><pre>LogisticRegression()</pre><b>In a Jupyter environment, please rerun this cell to show the HTML representation or trust the notebook. <br />On GitHub, the HTML representation is unable to render, please try loading this page with nbviewer.org.</b></div><div class=\"sk-container\" hidden><div class=\"sk-item\"><div class=\"sk-estimator fitted sk-toggleable\"><input class=\"sk-toggleable__control sk-hidden--visually\" id=\"sk-estimator-id-1\" type=\"checkbox\" checked><label for=\"sk-estimator-id-1\" class=\"sk-toggleable__label fitted sk-toggleable__label-arrow fitted\">&nbsp;&nbsp;LogisticRegression<a class=\"sk-estimator-doc-link fitted\" rel=\"noreferrer\" target=\"_blank\" href=\"https://scikit-learn.org/1.5/modules/generated/sklearn.linear_model.LogisticRegression.html\">?<span>Documentation for LogisticRegression</span></a><span class=\"sk-estimator-doc-link fitted\">i<span>Fitted</span></span></label><div class=\"sk-toggleable__content fitted\"><pre>LogisticRegression()</pre></div> </div></div></div></div>"
      ],
      "text/plain": [
       "LogisticRegression()"
      ]
     },
     "execution_count": 16,
     "metadata": {},
     "output_type": "execute_result"
    }
   ],
   "source": [
    "model = LogisticRegression()\n",
    "\n",
    "model.fit(X,y)"
   ]
  },
  {
   "cell_type": "code",
   "execution_count": 17,
   "id": "d3dafdd9-1a34-4af4-99da-50f8e953ad05",
   "metadata": {},
   "outputs": [
    {
     "data": {
      "text/plain": [
       "array([1., 1., 1., 1., 1., 1., 1., 1., 1., 1., 1., 1., 1., 1., 1., 1., 1.,\n",
       "       1., 1., 1., 1., 1., 1., 1., 1., 1., 1., 1., 1., 1., 1., 1., 1., 1.,\n",
       "       1., 1., 1., 1., 1., 1., 1., 1., 1., 1., 1., 1., 1., 1., 1., 1., 0.,\n",
       "       0., 0., 0., 0., 0., 0., 0., 0., 0., 0., 0., 0., 0., 0., 0., 0., 0.,\n",
       "       0., 0., 0., 0., 0., 0., 0., 0., 0., 0., 0., 0., 0., 0., 0., 0., 0.,\n",
       "       0., 0., 0., 0., 0., 0., 0., 0., 0., 0., 0., 0., 0., 0., 0.])"
      ]
     },
     "execution_count": 17,
     "metadata": {},
     "output_type": "execute_result"
    }
   ],
   "source": [
    "preds = model.predict(X)\n",
    "preds"
   ]
  },
  {
   "cell_type": "markdown",
   "id": "39618b8f-f06f-47a5-ae78-de6dbb9ac21c",
   "metadata": {},
   "source": [
    "![](../media/7ysypz.jpg)"
   ]
  },
  {
   "cell_type": "markdown",
   "id": "0444e3cc-ff54-401c-a291-e7d09ba74d0e",
   "metadata": {},
   "source": [
    "And you would be right! model.predict here is actually doing a couple of steps under the hood:"
   ]
  },
  {
   "cell_type": "markdown",
   "id": "d184d94d-4ab7-4d1a-b406-2b0ef87bba05",
   "metadata": {},
   "source": [
    "First it outputs the probabilities by passing the inputs through the **sigmoid** function"
   ]
  },
  {
   "cell_type": "code",
   "execution_count": 18,
   "id": "043d20b1-63e1-4219-b629-554e87a5bb5e",
   "metadata": {},
   "outputs": [
    {
     "data": {
      "text/plain": [
       "array([0.98395142, 0.97701191, 0.98593614, 0.97682364, 0.98594633,\n",
       "       0.96961041, 0.98445958, 0.97891909, 0.97973186, 0.97600103,\n",
       "       0.9808288 , 0.97575424, 0.97995345, 0.99185207, 0.99120468,\n",
       "       0.9858973 , 0.98770916, 0.98236266, 0.96565076, 0.98306946,\n",
       "       0.96085555, 0.97966159, 0.99527478, 0.95042431, 0.95267181,\n",
       "       0.96244757, 0.96817372, 0.97898149, 0.98167858, 0.9722716 ,\n",
       "       0.96839778, 0.96983396, 0.98881828, 0.98981164, 0.97364629,\n",
       "       0.98724738, 0.98480153, 0.98775895, 0.98522619, 0.9779936 ,\n",
       "       0.98654408, 0.96845025, 0.98765055, 0.96490405, 0.95442751,\n",
       "       0.97581217, 0.98067117, 0.98309273, 0.9816373 , 0.98162404,\n",
       "       0.00312893, 0.00585489, 0.00171136, 0.01462396, 0.00310121,\n",
       "       0.00670214, 0.00384271, 0.12439458, 0.00393504, 0.02711176,\n",
       "       0.05621881, 0.01208124, 0.01430512, 0.00353577, 0.05811679,\n",
       "       0.00649476, 0.00692948, 0.01942486, 0.00258538, 0.02534236,\n",
       "       0.00274317, 0.01764371, 0.00129184, 0.00391076, 0.00854978,\n",
       "       0.00619879, 0.00188781, 0.00111839, 0.005317  , 0.07024605,\n",
       "       0.03030662, 0.04154023, 0.0252897 , 0.00101197, 0.00756076,\n",
       "       0.00759025, 0.00296159, 0.00412978, 0.02085165, 0.01748693,\n",
       "       0.00844638, 0.00487138, 0.01845977, 0.11044344, 0.01270794,\n",
       "       0.01749685, 0.01455803, 0.00932729, 0.2056028 , 0.01671054])"
      ]
     },
     "execution_count": 18,
     "metadata": {},
     "output_type": "execute_result"
    }
   ],
   "source": [
    "probas = model.predict_proba(X)[:,1]\n",
    "probas"
   ]
  },
  {
   "cell_type": "markdown",
   "id": "c70e6ac3-152f-4afe-9117-7b42369e2e2a",
   "metadata": {},
   "source": [
    "Then it makes a decision about what class this probability falls into by placing a decision threshold:"
   ]
  },
  {
   "cell_type": "code",
   "execution_count": null,
   "id": "b819f7b8",
   "metadata": {},
   "outputs": [],
   "source": [
    "decision_threshold = # what should we use here?"
   ]
  },
  {
   "cell_type": "code",
   "execution_count": 25,
   "id": "f034bf2c-be73-45bb-bbae-834f498c07a2",
   "metadata": {},
   "outputs": [],
   "source": [
    "preds = (probas > 0.5).astype(int)"
   ]
  },
  {
   "cell_type": "code",
   "execution_count": 26,
   "id": "5a1eacbc-cd9b-4307-83b4-6ad437ebc0ef",
   "metadata": {},
   "outputs": [
    {
     "data": {
      "text/plain": [
       "array([1, 1, 1, 1, 1, 1, 1, 1, 1, 1, 1, 1, 1, 1, 1, 1, 1, 1, 1, 1, 1, 1,\n",
       "       1, 1, 1, 1, 1, 1, 1, 1, 1, 1, 1, 1, 1, 1, 1, 1, 1, 1, 1, 1, 1, 1,\n",
       "       1, 1, 1, 1, 1, 1, 0, 0, 0, 0, 0, 0, 0, 0, 0, 0, 0, 0, 0, 0, 0, 0,\n",
       "       0, 0, 0, 0, 0, 0, 0, 0, 0, 0, 0, 0, 0, 0, 0, 0, 0, 0, 0, 0, 0, 0,\n",
       "       0, 0, 0, 0, 0, 0, 0, 0, 0, 0, 0, 0])"
      ]
     },
     "execution_count": 26,
     "metadata": {},
     "output_type": "execute_result"
    }
   ],
   "source": [
    "preds"
   ]
  },
  {
   "cell_type": "markdown",
   "id": "8ff43ae0-818b-4e9f-9a69-62ab3d5d683b",
   "metadata": {},
   "source": [
    "----"
   ]
  },
  {
   "cell_type": "markdown",
   "id": "7eff11b0-2293-470b-a247-739244cf5fce",
   "metadata": {},
   "source": [
    "So, is our model correct?"
   ]
  },
  {
   "cell_type": "code",
   "execution_count": 27,
   "id": "599f7e83-eb4a-43aa-8adf-77452d9883d5",
   "metadata": {},
   "outputs": [],
   "source": [
    "accuracy = (preds == y).sum() / len(y)"
   ]
  },
  {
   "cell_type": "code",
   "execution_count": 28,
   "id": "66eacdaf-2690-4386-8e7f-452722aeb95c",
   "metadata": {},
   "outputs": [
    {
     "data": {
      "text/plain": [
       "1.0"
      ]
     },
     "execution_count": 28,
     "metadata": {},
     "output_type": "execute_result"
    }
   ],
   "source": [
    "accuracy"
   ]
  },
  {
   "cell_type": "markdown",
   "id": "02bd523f-a318-4adc-a448-8508e7ce8e19",
   "metadata": {},
   "source": [
    "![](../media/7yusqp.jpg)"
   ]
  },
  {
   "cell_type": "markdown",
   "id": "fe566180-ba0c-4c10-896a-904665823fa3",
   "metadata": {},
   "source": [
    "# Visualizing the model"
   ]
  },
  {
   "cell_type": "code",
   "execution_count": 29,
   "id": "d99e0362-adb9-4476-a1ea-cb04af46f27d",
   "metadata": {},
   "outputs": [
    {
     "name": "stderr",
     "output_type": "stream",
     "text": [
      "/Users/simaonovais/miniconda3/envs/MLCatolica24/lib/python3.12/site-packages/sklearn/base.py:493: UserWarning: X does not have valid feature names, but LogisticRegression was fitted with feature names\n",
      "  warnings.warn(\n"
     ]
    },
    {
     "data": {
      "image/png": "[encoded data removed]",
      "text/plain": [
       "<Figure size 640x480 with 1 Axes>"
      ]
     },
     "metadata": {},
     "output_type": "display_data"
    }
   ],
   "source": [
    "plot_decision_boundary(feature_a = X['sepal width (cm)'],\n",
    "                       feature_b = X['petal width (cm)'],\n",
    "                       target = y, \n",
    "                       threshold = 0.5)"
   ]
  },
  {
   "cell_type": "markdown",
   "id": "8eb3503e-65d6-4469-a131-c791360dbaf4",
   "metadata": {},
   "source": [
    "# Can we interpret a Logistic Regression Model?\n",
    "\n",
    "We know how to compute the probabilities for any given example: \n",
    "\n",
    "$$ p = \\frac{1}{1 + e^{-(\\beta_0 x_0 + \\beta_1 x_1 + \\beta_2 x_2 + \\beta_3 x_3 +b)}}$$\n",
    "\n",
    "\n",
    "But remind that:\n",
    "\n",
    "$$ \n",
    "\\begin{equation}\\begin{aligned}\\beta_0 x_0 + \\beta_1 x_1 + \\beta_2 x_2 + \\beta_3 x_3 +b &= \\log \\frac{p}{1-p} \\\\\n",
    "&= \\log odds \\end{aligned} \\end{equation}$$\n",
    "\n",
    "This means that the log odds is linear on the model parameters $\\beta_i$. As such, like in Linear Regression, each $\\beta_i$ each represents the change in $\\log odds$  for a unit change in $x_i$."
   ]
  },
  {
   "cell_type": "code",
   "execution_count": 30,
   "id": "4b2fd9ca",
   "metadata": {},
   "outputs": [
    {
     "data": {
      "text/plain": [
       "Index(['sepal length (cm)', 'sepal width (cm)', 'petal length (cm)',\n",
       "       'petal width (cm)'],\n",
       "      dtype='object')"
      ]
     },
     "execution_count": 30,
     "metadata": {},
     "output_type": "execute_result"
    }
   ],
   "source": [
    "X.columns"
   ]
  },
  {
   "cell_type": "code",
   "execution_count": 31,
   "id": "9c38f3f6-88cf-4f1d-aac2-fc7d531fa0ee",
   "metadata": {},
   "outputs": [
    {
     "data": {
      "text/plain": [
       "array([[-0.43911437,  0.90851188, -2.30934933, -0.96013607]])"
      ]
     },
     "execution_count": 31,
     "metadata": {},
     "output_type": "execute_result"
    }
   ],
   "source": [
    "model.coef_"
   ]
  },
  {
   "cell_type": "markdown",
   "id": "56c771ac-0b98-4539-afda-8f900d43826c",
   "metadata": {},
   "source": [
    "These coeficients help us understand how the model is making its decisions. For our case:\n",
    "1. a unit change in `sepal length` makes it more likely to be **iris-versicolor**\n",
    "2. a unit change in `sepal width` makes it more likely to be **iris-setosa**\n",
    "3. a unit change in `petal length` makes it a lot more likely to be **iris-versicolor**\n",
    "4. a unit change in `petal width` makes it more likely to be **iris-versicolor**"
   ]
  },
  {
   "cell_type": "markdown",
   "id": "26531c72-d357-4acb-9aed-afe48fa15d4f",
   "metadata": {},
   "source": [
    "$ \\beta_0 x_0 + \\beta_1 x_1 + \\beta_2 x_2 + \\beta_3 x_3 +b = A$ has a nice interpretation because it defines the decision threshold plane.\n",
    "\n",
    "A new input is classified as class 1 if $ \\beta_0 x_0 + \\beta_1 x_1 + \\beta_2 x_2 + \\beta_3 x_3 +b > A$ or class 0 otherwise.\n",
    "\n",
    "Choosing a threshold of 0.5 probability is the same as saying $A = \\log \\frac{0.5}{1-0.5} = 0$"
   ]
  },
  {
   "cell_type": "code",
   "execution_count": 32,
   "id": "21ab9866-ef4d-4379-bf39-1870a0fa7b50",
   "metadata": {},
   "outputs": [
    {
     "name": "stderr",
     "output_type": "stream",
     "text": [
      "/Users/simaonovais/miniconda3/envs/MLCatolica24/lib/python3.12/site-packages/sklearn/base.py:493: UserWarning: X does not have valid feature names, but LogisticRegression was fitted with feature names\n",
      "  warnings.warn(\n"
     ]
    },
    {
     "data": {
      "image/png": "[encoded data removed]",
      "text/plain": [
       "<Figure size 640x480 with 1 Axes>"
      ]
     },
     "metadata": {},
     "output_type": "display_data"
    }
   ],
   "source": [
    "# so for for a threshold of 0.8 for example we get\n",
    "plot_decision_boundary(feature_a = X['sepal width (cm)'],\n",
    "                       feature_b = X['petal width (cm)'],\n",
    "                       target = y, \n",
    "                       threshold = 0.8)"
   ]
  },
  {
   "cell_type": "code",
   "execution_count": 33,
   "id": "ad0ec521-5007-464c-b2e8-9eb33834b998",
   "metadata": {},
   "outputs": [
    {
     "name": "stderr",
     "output_type": "stream",
     "text": [
      "/Users/simaonovais/miniconda3/envs/MLCatolica24/lib/python3.12/site-packages/sklearn/base.py:493: UserWarning: X does not have valid feature names, but LogisticRegression was fitted with feature names\n",
      "  warnings.warn(\n"
     ]
    },
    {
     "data": {
      "image/png": "[encoded data removed]",
      "text/plain": [
       "<Figure size 640x480 with 1 Axes>"
      ]
     },
     "metadata": {},
     "output_type": "display_data"
    }
   ],
   "source": [
    "# so for for a threshold of 0.1 for example we get\n",
    "plot_decision_boundary(feature_a = X['sepal width (cm)'],\n",
    "                       feature_b = X['petal width (cm)'],\n",
    "                       target = y, \n",
    "                       threshold = 0.1)"
   ]
  },
  {
   "cell_type": "markdown",
   "id": "16bf9193-c410-49f8-ad2f-26abc3d95d6a",
   "metadata": {},
   "source": [
    "And that's it, you've reached the end of the lesson!"
   ]
  },
  {
   "cell_type": "markdown",
   "id": "358f5282-5c6c-49c4-95cc-1ef752d80850",
   "metadata": {},
   "source": [
    "![](../media/7yvj5n.jpg)"
   ]
  },
  {
   "cell_type": "code",
   "execution_count": null,
   "id": "84a0939c-4011-422c-b30d-33a284c988a8",
   "metadata": {},
   "outputs": [],
   "source": []
  }
 ],
 "metadata": {
  "kernelspec": {
   "display_name": "MLCatolica24",
   "language": "python",
   "name": "python3"
  },
  "language_info": {
   "codemirror_mode": {
    "name": "ipython",
    "version": 3
   },
   "file_extension": ".py",
   "mimetype": "text/x-python",
   "name": "python",
   "nbconvert_exporter": "python",
   "pygments_lexer": "ipython3",
   "version": "3.12.3"
  }
 },
 "nbformat": 4,
 "nbformat_minor": 5
}
