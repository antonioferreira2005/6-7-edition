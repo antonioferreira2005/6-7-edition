{
 "cells": [
  {
   "cell_type": "markdown",
   "id": "3a75a143-fd42-4690-bbb9-683cb3f51657",
   "metadata": {},
   "source": [
    "# Diabetes Dataset\n",
    "\n",
    "## Context\n",
    "\n",
    "This dataset is originally from the National Institute of Diabetes and Digestive and Kidney Diseases. The objective is to predict based on diagnostic measurements whether a patient has diabetes.\n",
    "\n",
    "## Content\n",
    "\n",
    "Several constraints were placed on the selection of these instances from a larger database. In particular, all patients here are females at least 21 years old of Pima Indian heritage. Features are:\n",
    "\n",
    "- **Pregnancies**: Number of times pregnant\n",
    "- **Glucose**: Plasma glucose concentration a 2 hours in an oral glucose tolerance test\n",
    "- **BloodPressure**: Diastolic blood pressure (mm Hg)\n",
    "- **SkinThickness**: Triceps skin fold thickness (mm)\n",
    "- **Insulin**: 2-Hour serum insulin (mu U/ml)\n",
    "- **BMI**: Body mass index (weight in kg/(height in m)^2)\n",
    "- **DiabetesPedigreeFunction**: Diabetes pedigree function\n",
    "- **Age**: Age (years)\n",
    "- **Outcome**: Class variable (0 or 1)"
   ]
  },
  {
   "cell_type": "markdown",
   "id": "1dd45f73-4a10-478d-8409-59b7b7881a7c",
   "metadata": {},
   "source": [
    "# Imports"
   ]
  },
  {
   "cell_type": "code",
   "execution_count": null,
   "id": "9db1e794-713e-4fd5-936a-b69660b5ef87",
   "metadata": {},
   "outputs": [],
   "source": [
    "import pandas as pd\n",
    "from sklearn.linear_model import LogisticRegression\n",
    "import numpy as np\n",
    "import matplotlib.pyplot as plt"
   ]
  },
  {
   "cell_type": "markdown",
   "id": "8d0bff60-b4f5-4c80-922b-3e59000965c3",
   "metadata": {},
   "source": [
    "# Exercise 1.1 - Read the data\n",
    "\n",
    "you can find it in `../data/diabetes.csv`"
   ]
  },
  {
   "cell_type": "code",
   "execution_count": null,
   "id": "8b12e97f-9d6d-43d5-a7ff-b7bf0b44b7fc",
   "metadata": {},
   "outputs": [],
   "source": [
    "# df = ...        "
   ]
  },
  {
   "cell_type": "markdown",
   "id": "943d854d-d680-4f64-900e-40e87190320e",
   "metadata": {},
   "source": [
    "# Exercise 1.2 - Display the 5 rows of the dataset"
   ]
  },
  {
   "cell_type": "code",
   "execution_count": null,
   "id": "f07fccf5-dc79-46e7-be92-9786a6bb7dff",
   "metadata": {},
   "outputs": [],
   "source": [
    "# ..."
   ]
  },
  {
   "cell_type": "markdown",
   "id": "f152f313-1400-4396-83ef-0e749ccc18f5",
   "metadata": {},
   "source": [
    "# Exercise 1.3 - How many rows and columns does the dataset have?"
   ]
  },
  {
   "cell_type": "code",
   "execution_count": null,
   "id": "e6d37a21-8e65-4c89-b69f-15bcbdbaee4e",
   "metadata": {},
   "outputs": [],
   "source": [
    "nrows = # ...\n",
    "ncols = # ..."
   ]
  },
  {
   "cell_type": "code",
   "execution_count": null,
   "id": "24093469",
   "metadata": {},
   "outputs": [],
   "source": [
    "# run this cell to see the values of nrows and ncols\n",
    "print(f\"Number of rows of my dataset: {nrows}\")\n",
    "print(f\"Number of columns of my dataset: {ncols}\")"
   ]
  },
  {
   "cell_type": "markdown",
   "id": "b56cd4c5-ad7a-4f52-9de1-5e06cc70a664",
   "metadata": {},
   "source": [
    "# Exercise 1.4 - Define the features and the target\n",
    "\n",
    "You want to use every feature you have available, but don't forget that the target is the `Outcome` column."
   ]
  },
  {
   "cell_type": "code",
   "execution_count": null,
   "id": "639eed25-2184-401b-8fed-8c4f2a8d6efb",
   "metadata": {},
   "outputs": [],
   "source": [
    "# X = ...\n",
    "# y = ..."
   ]
  },
  {
   "cell_type": "markdown",
   "id": "2d5a0c3e-030d-404b-ac28-c98fb7ea4401",
   "metadata": {},
   "source": [
    "# Exercise 1.5 - Train a Logistic Regression on this data"
   ]
  },
  {
   "cell_type": "code",
   "execution_count": null,
   "id": "d267dcc9-7432-4caa-a5a2-43425fbf010c",
   "metadata": {},
   "outputs": [],
   "source": [
    "# initialize the model\n",
    "# model = ...\n",
    "\n",
    "# fit/train the model\n",
    "# ..."
   ]
  },
  {
   "cell_type": "markdown",
   "id": "878891cc-fb7a-49e9-8561-cf6c152c392c",
   "metadata": {},
   "source": [
    "# Exercise 1.6 - Report the accuracy of the model"
   ]
  },
  {
   "cell_type": "code",
   "execution_count": null,
   "id": "6eadcbcd-d7c6-45e9-a50f-a710fd396330",
   "metadata": {},
   "outputs": [],
   "source": [
    "# preds = ...\n",
    "# accuracy = ..."
   ]
  },
  {
   "cell_type": "markdown",
   "id": "74de0378-8fc7-47c0-95a5-18ead7f0a375",
   "metadata": {},
   "source": [
    "# Exercise 1.7 - What are the top 2 features that contribute the most to a patient being diagnosed with diabetes?"
   ]
  },
  {
   "cell_type": "markdown",
   "id": "66e28787",
   "metadata": {},
   "source": [
    "## Easy version\n",
    "\n",
    "do it \"manually\" like it was done in the Learning Notebook"
   ]
  },
  {
   "cell_type": "code",
   "execution_count": null,
   "id": "4a911437",
   "metadata": {},
   "outputs": [],
   "source": []
  },
  {
   "cell_type": "markdown",
   "id": "2082ac54",
   "metadata": {},
   "source": [
    "## Not-so-easy version\n",
    "\n",
    "Create a function that receives a list of the model's coeficients, and a list of the respective feature names, and returns the top 2 features that impact the model's prediction the most. \n",
    "\n",
    "*hint:* Solve this with the help of [np.argsort](https://numpy.org/doc/stable/reference/generated/numpy.argsort.html) might be a helpful function here..."
   ]
  },
  {
   "cell_type": "code",
   "execution_count": null,
   "id": "65857c65",
   "metadata": {},
   "outputs": [],
   "source": [
    "def get_top_2_features(coefs, feature_names):\n",
    "    raise NotImplementedError(\"Implement this function\")"
   ]
  },
  {
   "cell_type": "markdown",
   "id": "2c195534-89df-4aff-b8af-637990f10e4d",
   "metadata": {},
   "source": [
    "# Exercise 1.8 - Plot the decision boundary using Age and DiabetesPedigreeFunction"
   ]
  },
  {
   "cell_type": "code",
   "execution_count": null,
   "id": "20ac4b7e-8900-47e7-9fe8-7705624f9520",
   "metadata": {},
   "outputs": [],
   "source": []
  }
 ],
 "metadata": {
  "kernelspec": {
   "display_name": "MLCatolica24",
   "language": "python",
   "name": "python3"
  },
  "language_info": {
   "codemirror_mode": {
    "name": "ipython",
    "version": 3
   },
   "file_extension": ".py",
   "mimetype": "text/x-python",
   "name": "python",
   "nbconvert_exporter": "python",
   "pygments_lexer": "ipython3",
   "version": "3.12.3"
  }
 },
 "nbformat": 4,
 "nbformat_minor": 5
}
