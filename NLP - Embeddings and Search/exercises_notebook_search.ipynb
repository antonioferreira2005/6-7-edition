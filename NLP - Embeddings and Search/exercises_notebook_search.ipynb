{
  "cells": [
    {
      "cell_type": "markdown",
      "metadata": {
        "id": "Zjx4ZruxAJHg"
      },
      "source": [
        "# Exercise: Build a Simplified Search Engine\n",
        "\n",
        "In this notebook, you will build a simplified search engine using the [Movies Metadata](https://www.kaggle.com/datasets/rounakbanik/the-movies-dataset?resource=download&select=movies_metadata.csv) dataset.\n",
        "\n",
        "### Objectives:\n",
        "\n",
        "1. Learn to preprocess text data from a real dataset.\n",
        "2. Implement a search function that retrieves the top-N results for a given query.\n",
        "3. Explore and evaluate different similarity measures (e.g., TF-IDF and cosine similarity).\n",
        "\n",
        "### Dataset:\n",
        "\n",
        "You will use the `movies_metadata.csv` file. This dataset contains metadata about movies, including titles, overviews, genres, and other information.\n",
        "\n",
        "---\n",
        "### Setup:\n",
        "Ensure you have the required libraries installed. You may need the following:\n",
        "\n",
        "```bash\n",
        "pip install pandas scikit-learn sentence-transformers\n",
        "```\n"
      ],
      "id": "Zjx4ZruxAJHg"
    },
    {
      "cell_type": "code",
      "execution_count": null,
      "metadata": {
        "id": "drX4tF8XAJHi"
      },
      "outputs": [],
      "source": [
        "# Import libraries\n",
        "import pandas as pd\n",
        "from sklearn.feature_extraction.text import TfidfVectorizer\n",
        "from sklearn.metrics.pairwise import cosine_similarity\n",
        "\n",
        "# Optionally, use Sentence Transformers for semantic similarity\n",
        "# from sentence_transformers import SentenceTransformer, util\n"
      ],
      "id": "drX4tF8XAJHi"
    },
    {
      "cell_type": "markdown",
      "metadata": {
        "id": "xRWTTDH2AJHj"
      },
      "source": [
        "### Step 1: Load and Explore the Dataset\n",
        "\n",
        "Load the `movies_metadata.csv` file and inspect the first few rows. Focus on the `title` and `overview` columns, which will be key for building your search engine."
      ],
      "id": "xRWTTDH2AJHj"
    },
    {
      "cell_type": "code",
      "execution_count": null,
      "metadata": {
        "id": "0hHlDRhxAJHk"
      },
      "outputs": [],
      "source": [
        "# Load the dataset\n",
        "file_path = 'movies_metadata.csv'  # Update with your file path\n",
        "df = pd.read_csv(file_path)\n",
        "\n",
        "# Display the first few rows\n",
        "df.head()"
      ],
      "id": "0hHlDRhxAJHk"
    },
    {
      "cell_type": "markdown",
      "metadata": {
        "id": "59sLessOAJHk"
      },
      "source": [
        "### Step 2: Preprocess the Data\n",
        "\n",
        "1. Select relevant columns: `title` and `overview`.\n",
        "2. Handle missing values by filling them with an empty string.\n",
        "3. Combine or transform the data as needed for search."
      ],
      "id": "59sLessOAJHk"
    },
    {
      "cell_type": "code",
      "execution_count": null,
      "metadata": {
        "id": "iEUnyHmXAJHk"
      },
      "outputs": [],
      "source": [
        "# Preprocess the data\n",
        "df = df[['title', 'overview']].dropna(subset=['title'])\n",
        "df['overview'] = df['overview'].fillna('')\n",
        "\n",
        "# Inspect the processed data\n",
        "df.head()"
      ],
      "id": "iEUnyHmXAJHk"
    },
    {
      "cell_type": "markdown",
      "metadata": {
        "id": "0mQzmowKAJHl"
      },
      "source": [
        "### Step 3: Implement the Search Function\n",
        "\n",
        "Write a function `search(query, n, engine='tfidf')` that retrieves the top-N results for a given query using the specified search engine:\n",
        "\n",
        "1. **TF-IDF**: Use `TfidfVectorizer` to compute similarity scores.\n",
        "2. **Sentence Transformers** (optional): Use pre-trained embeddings for semantic search.\n",
        "\n",
        "#### Hint:\n",
        "- Compute the similarity between the query and all movie overviews.\n",
        "- Sort the results by similarity and return the top-N titles."
      ],
      "id": "0mQzmowKAJHl"
    },
    {
      "cell_type": "code",
      "execution_count": null,
      "metadata": {
        "id": "szaL-pKgAJHl"
      },
      "outputs": [],
      "source": [
        "def search(query, n=5, engine='tfidf'):\n",
        "    \"\"\"Search for the top-N movies based on the query.\n",
        "\n",
        "    Args:\n",
        "        query (str): The search query.\n",
        "        n (int): Number of top results to return.\n",
        "        engine (str): Search engine to use ('tfidf' or 'transformer').\n",
        "\n",
        "    Returns:\n",
        "        List[str]: Top-N movie titles matching the query.\n",
        "    \"\"\"\n",
        "    pass\n"
      ],
      "id": "szaL-pKgAJHl"
    },
    {
      "cell_type": "markdown",
      "metadata": {
        "id": "XmC50jMuAJHm"
      },
      "source": [
        "### Step 4: Test Your Function\n",
        "\n",
        "Use different queries to test your search function. Verify the quality of the results and experiment with varying `n` values."
      ],
      "id": "XmC50jMuAJHm"
    },
    {
      "cell_type": "code",
      "execution_count": null,
      "metadata": {
        "id": "xwZWNHyaAJHm"
      },
      "outputs": [],
      "source": [
        "# Example usage of the search function\n",
        "query = 'space adventure'\n",
        "top_n = 5\n",
        "results = search(query, n=top_n, engine='tfidf')\n",
        "print(f\"Top {top_n} results for query '{query}':\", results)"
      ],
      "id": "xwZWNHyaAJHm"
    },
    {
      "cell_type": "markdown",
      "source": [
        "### Step 5: Plot query and top documents\n",
        "\n",
        "Plot the query and top retrieved documents or all documents to visualize the retrieval"
      ],
      "metadata": {
        "id": "twHZJ2HlAxAk"
      },
      "id": "twHZJ2HlAxAk"
    },
    {
      "cell_type": "code",
      "source": [
        "# TODO"
      ],
      "metadata": {
        "id": "JWKhC7joAXbE"
      },
      "id": "JWKhC7joAXbE",
      "execution_count": null,
      "outputs": []
    },
    {
      "cell_type": "markdown",
      "source": [
        "### Step 6: Compare engines\n",
        "\n",
        "Compare the results of the same query using different engines.\n",
        "\n",
        "Note: there are multiple ways of doing this, the simpler one is comparing the intersection of top-K (k = 5, 10 or 30) from each engine."
      ],
      "metadata": {
        "id": "qxfVLc1RAYZK"
      },
      "id": "qxfVLc1RAYZK"
    },
    {
      "cell_type": "code",
      "source": [
        "#TODO"
      ],
      "metadata": {
        "id": "CX4ehxpMAlfc"
      },
      "id": "CX4ehxpMAlfc",
      "execution_count": null,
      "outputs": []
    },
    {
      "cell_type": "markdown",
      "metadata": {
        "id": "5YGdFDU6AJHn"
      },
      "source": [
        "### Questions to Think About:\n",
        "\n",
        "1. How does the choice of similarity measure affect the results?\n",
        "2. What happens when you use different queries?\n",
        "3. Can you improve the results by incorporating additional metadata, such as genres?"
      ],
      "id": "5YGdFDU6AJHn"
    }
  ],
  "metadata": {
    "kernelspec": {
      "display_name": "Python 3",
      "language": "python",
      "name": "python3"
    },
    "language_info": {
      "codemirror_mode": {
        "name": "ipython",
        "version": 3
      },
      "file_extension": ".py",
      "mimetype": "text/x-python",
      "name": "python",
      "nbconvert_exporter": "python",
      "pygments_lexer": "ipython3",
      "version": "3.8.10"
    },
    "colab": {
      "provenance": []
    }
  },
  "nbformat": 4,
  "nbformat_minor": 5
}