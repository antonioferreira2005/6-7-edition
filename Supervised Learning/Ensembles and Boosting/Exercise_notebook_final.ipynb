{
 "cells": [
  {
   "cell_type": "markdown",
   "metadata": {},
   "source": [
    "# Data Science Exercises: Breast Cancer Classification\n",
    "In this notebook, you will work through six exercises focusing on data loading, model creation, and evaluation. You will learn how to leverage different machine learning algorithms to classify breast cancer samples based on various medical measurements."
   ]
  },
  {
   "cell_type": "code",
   "execution_count": null,
   "metadata": {},
   "outputs": [],
   "source": [
    "!pip install XGBClassifier"
   ]
  },
  {
   "cell_type": "code",
   "execution_count": null,
   "metadata": {},
   "outputs": [],
   "source": [
    "from sklearn.ensemble import VotingClassifier\n",
    "from sklearn.linear_model import LogisticRegression\n",
    "from sklearn.ensemble import RandomForestClassifier\n",
    "from sklearn.datasets import load_breast_cancer\n",
    "from sklearn.model_selection import train_test_split\n",
    "from sklearn.metrics import precision_score, recall_score, accuracy_score, roc_auc_score, precision_recall_curve\n",
    "from sklearn.tree import DecisionTreeClassifier  \n",
    "from sklearn.metrics import confusion_matrix, accuracy_score\n",
    "from xgboost import XGBClassifier\n",
    "import matplotlib.pyplot as plt\n",
    "import seaborn as sns\n",
    "\n",
    "import pandas as pd"
   ]
  },
  {
   "cell_type": "markdown",
   "metadata": {},
   "source": [
    "## Exercise 1: Read the Data\n",
    "In this first exercise, you will import the breast cancer dataset from the `sklearn.datasets`. This dataset contains features of different breast cancer tumors, labelled as benign or malignant.\n",
    "\n",
    "### Instructions:\n",
    "- Import the necessary libraries.\n",
    "- Load the dataset using the `load_breast_cancer()` function.\n",
    "- Store the features in `X` and labels in `Y`."
   ]
  },
  {
   "cell_type": "code",
   "execution_count": null,
   "metadata": {},
   "outputs": [],
   "source": [
    "data = load_breast_cancer()\n",
    "X = data['data']\n",
    "Y = data['target']\n",
    "df = pd.DataFrame(X, columns=data['feature_names'])\n",
    "df.head()"
   ]
  },
  {
   "cell_type": "markdown",
   "metadata": {},
   "source": [
    "## Exercise 2: Make a Small EDA (Exploratory Data Analysis) of the Breast Cancer Dataset\n",
    "\n",
    "In this exercise, you will perform a basic exploratory data analysis (EDA) on the breast cancer dataset. EDA is crucial for understanding the underlying patterns, distributions, and potential relationships in the data, which will help in selecting appropriate models and preprocessing steps.\n",
    "\n",
    "### Steps:\n",
    "\n",
    "1. **Check the Data Types and Missing Values:**\n",
    "   - Start by inspecting the data types of each column. This will help you understand the type of each feature (e.g., numeric, categorical) and whether any conversion is needed.\n",
    "   - Check for any missing values in the dataset. Missing values can be handled by either filling them with appropriate values (e.g., mean or median) or by removing the corresponding rows or columns.\n",
    "\n",
    "2. **Summary Statistics:**\n",
    "   - Use the `describe()` method to get a summary of the numeric columns. This will provide key statistics such as the mean, standard deviation, min, and max values, which are helpful for understanding the distribution of each feature.\n",
    "   - Look for any anomalies, outliers, or features that may need special attention (e.g., highly skewed distributions).\n",
    "\n",
    "3. **Visualizations:**\n",
    "   - **Feature Distributions:** Create histograms or box plots to visualize the distribution of the features, such as tumor size, texture, or smoothness. This will help assess the spread of the data and detect outliers.\n",
    "   - **Correlation Matrix:** Visualize the correlation matrix to examine relationships between the features, focusing on features that are highly correlated with the target variable (malignant or benign).\n",
    "   - **Pairwise Scatter Plots:** Visualize the relationships between pairs of features using scatter plots, particularly to explore any separation between malignant and benign cases.\n",
    "\n",
    "4. **Class Distribution:**\n",
    "   - Investigate the distribution of the target variable (malignant vs benign). Use the `value_counts()` method to determine how balanced the classes are.\n",
    "   - Visualize the class distribution using a bar plot or pie chart to understand if there is an imbalance that could affect model training.\n",
    "\n",
    "5. **Target Variable Analysis:**\n",
    "   - Investigate how the target variable (malignant or benign) relates to the features. Is there a clear distinction between the two classes based on the features, or do the features overlap?\n"
   ]
  },
  {
   "cell_type": "code",
   "execution_count": null,
   "metadata": {},
   "outputs": [],
   "source": [
    "# your code"
   ]
  },
  {
   "cell_type": "markdown",
   "metadata": {},
   "source": [
    "## Exercise 3: Baseline Model\n",
    "Now that you are familiar with the data, it's time to create a baseline machine learning model. You will use logistic regression or a decision tree as a starting point to predict labels.\n",
    "\n",
    "### Instructions:\n",
    "- **Split the data:**\n",
    "  - Split the dataset into training and testing sets using `train_test_split`.\n",
    "  - `X_train, X_test` are the features for training and testing.\n",
    "  - `Y_train, Y_test` are the labels for training and testing.\n",
    "  - `test_size=0.3` means 30% of the data will be used for testing.\n",
    "\n",
    "- **Train the model:**\n",
    "  - Create a `DecisionTreeClassifier` model.\n",
    "  - Fit the model to the training data (`X_train` and `Y_train`).\n",
    "\n",
    "- **Predictions:**\n",
    "  - Use the trained model to make predictions on the test set (`X_test`).\n",
    "  - Store the predictions in `Y_pred`.\n",
    "\n",
    "- **Evaluation:**\n",
    "  - Calculate and print the accuracy of the model using `accuracy_score`, `precision_score`, `recall_score`.\n",
    "  - Print the confusion matrix using `confusion_matrix` to assess the model's performance.\n",
    "  - ROC AUC\n",
    "\n",
    " "
   ]
  },
  {
   "cell_type": "code",
   "execution_count": null,
   "metadata": {},
   "outputs": [],
   "source": [
    "# Your code here to create and evaluate a baseline model\n",
    "\n",
    "\n"
   ]
  },
  {
   "cell_type": "code",
   "execution_count": null,
   "metadata": {},
   "outputs": [],
   "source": [
    "# evaluate the model to simplify try to fill it in the gaps\n",
    "print(\"Accuracy for Baseline:\",accuracy_score(Y_test, Y_pred_baseline)) # where Y_pred_baseline is the predictions you done on the model above\n",
    "print(\"Precision for Baseline:\"\n",
    "print(\"Recall for Baseline:\",\n",
    "print(\"ROC AUC for Baseline:\"\n",
    "      \n",
    "# Plot Precision-Recall Curve\n",
    "\n",
    "precision_baseline, recall_baseline, _ = precision_recall_curve(Y_test, Y_pred_baseline)\n",
    "plt.figure(figsize=(8, 6))\n",
    "plt.plot(recall_baseline, precision_baseline, label='Baseline', color='blue')\n",
    "plt.xlabel('Recall')\n",
    "plt.ylabel('Precision')\n",
    "plt.title('Precision-Recall Curve')\n",
    "plt.legend()\n",
    "plt.show()"
   ]
  },
  {
   "cell_type": "markdown",
   "metadata": {},
   "source": [
    "## Exercise 4: Ensemble Models\n",
    "In this exercise, you will implement ensemble methods to improve your model's performance. Consider using a voting classifier or stacking multiple models together.\n",
    "\n",
    "### Instructions:\n",
    "- Utilize multiple models like `RandomForestClassifier` and `LogisticRegression`.\n",
    "- Use `VotingClassifier` or `StackingClassifier` and train on the same training data.\n",
    "- Evaluate the ensemble model using accuracy and other metrics."
   ]
  },
  {
   "cell_type": "code",
   "execution_count": null,
   "metadata": {},
   "outputs": [],
   "source": [
    "# Your code here to create and evaluate ensemble models\n",
    "\n",
    "\n",
    "logistic_regression_model=??\n",
    "# use this to help you fill it in tho\n",
    "ensemble_model = VotingClassifier(estimators=[('lr', logistic_regression_model),('rf',),voting= \n",
    "\n",
    "ensemble_model.fit(???\n",
    "# Predictions\n",
    "Y_pred = ensemble_model.predict(????)\n",
    "# Evaluation\n",
    "print(\"Ensemble Accuracy:\", accuracy_score(Y_test, Y_pred))"
   ]
  },
  {
   "cell_type": "code",
   "execution_count": null,
   "metadata": {},
   "outputs": [],
   "source": [
    "# evaluate the model use previous code on exercise 4"
   ]
  },
  {
   "cell_type": "markdown",
   "metadata": {},
   "source": [
    "## Exercise 5: Use XGBoost\n",
    "For this exercise, you will implement an XGBoost model. XGBoost often provides better performance due to its boosting algorithm and handling of overfitting.\n",
    "\n",
    "### Instructions:\n",
    "- Import the `XGBClassifier` from `xgboost`.\n",
    "- Train the model on the training data and evaluate its performance.\n",
    "\n",
    "\n"
   ]
  },
  {
   "cell_type": "code",
   "execution_count": null,
   "metadata": {},
   "outputs": [],
   "source": [
    "# Your code here to create and evaluate an XGBoost model\n",
    "\n",
    "# Create and train model\n",
    "xgb_model = XGBClassifier()\n"
   ]
  },
  {
   "cell_type": "markdown",
   "metadata": {},
   "source": [
    "## Exercise 6: Final Evaluation\n",
    "In the final exercise, you should compare the performance of the different models you've trained, including the baseline, ensemble, and XGBoost models. Use various evaluation metrics such as precision, recall, and ROC AUC.\n",
    "\n",
    "### Instructions:\n",
    "- For each model, compute precision, recall, and other metrics.\n",
    "- Use the `classification_report` and ROC AUC to summarize model performance.\n",
    "\n",
    " "
   ]
  },
  {
   "cell_type": "code",
   "execution_count": null,
   "metadata": {},
   "outputs": [],
   "source": [
    "# Accuracy\n",
    "print(\"Accuracy for Baseline:\", accuracy_score(Y_test, Y_pred_baseline))\n",
    "print(\"Accuracy for Ensemble:\", accuracy_score(Y_test, Y_pred_ensemble))\n",
    "print(\"Accuracy for XGBoost:\", accuracy_score(Y_test, Y_pred_xgb))\n",
    "\n",
    "# Precision\n",
    "print(\"Precision for Baseline:\", precision_score(Y_test, Y_pred_baseline))\n",
    "print(\"Precision for Ensemble:\", precision_score(Y_test, Y_pred_ensemble))\n",
    "print(\"Precision for XGBoost:\", precision_score(Y_test, Y_pred_xgb))\n",
    "\n",
    "# Recall\n",
    "print(\"Recall for Baseline:\", recall_score(Y_test, Y_pred_baseline))\n",
    "print(\"Recall for Ensemble:\", recall_score(Y_test, Y_pred_ensemble))\n",
    "print(\"Recall for XGBoost:\", recall_score(Y_test, Y_pred_xgb))\n",
    "\n",
    "# ROC AUC\n",
    "print(\"ROC AUC for Baseline:\", roc_auc_score(Y_test, Y_pred_baseline))\n",
    "print(\"ROC AUC for Ensemble:\", roc_auc_score(Y_test, Y_pred_ensemble))\n",
    "print(\"ROC AUC for XGBoost:\", roc_auc_score(Y_test, Y_pred_xgb))\n",
    "\n",
    "# Precision-Recall Curve\n",
    "precision_baseline, recall_baseline, _ = precision_recall_curve(Y_test, Y_pred_baseline)\n",
    "precision_ensemble, recall_ensemble, _ = precision_recall_curve(Y_test, Y_pred_ensemble)\n",
    "precision_xgb, recall_xgb, _ = precision_recall_curve(Y_test, Y_pred_xgb)\n",
    "\n",
    "# Plot Precision-Recall Curve\n",
    "import matplotlib.pyplot as plt\n",
    "precision_baseline, recall_baseline, _ = precision_recall_curve(Y_test, Y_pred_baseline)\n",
    "plt.figure(figsize=(8, 6))\n",
    "plt.plot(recall_baseline, precision_baseline, label='Baseline', color='blue')\n",
    "plt.xlabel('Recall')\n",
    "plt.ylabel('Precision')\n",
    "plt.title('Precision-Recall Curve')\n",
    "plt.legend()\n",
    "plt.show()"
   ]
  }
 ],
 "metadata": {
  "kernelspec": {
   "display_name": "base",
   "language": "python",
   "name": "python3"
  },
  "language_info": {
   "codemirror_mode": {
    "name": "ipython",
    "version": 3
   },
   "file_extension": ".py",
   "mimetype": "text/x-python",
   "name": "python",
   "nbconvert_exporter": "python",
   "pygments_lexer": "ipython3",
   "version": "3.11.5"
  }
 },
 "nbformat": 4,
 "nbformat_minor": 2
}
