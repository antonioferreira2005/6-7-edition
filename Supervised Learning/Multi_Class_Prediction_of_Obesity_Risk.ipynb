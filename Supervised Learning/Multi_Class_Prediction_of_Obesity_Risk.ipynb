{
  "nbformat": 4,
  "nbformat_minor": 0,
  "metadata": {
    "colab": {
      "provenance": [],
      "authorship_tag": "ABX9TyPDjp4MRuLs5cnUr7saDwav",
      "include_colab_link": true
    },
    "kernelspec": {
      "name": "python3",
      "display_name": "Python 3"
    },
    "language_info": {
      "name": "python"
    }
  },
  "cells": [
    {
      "cell_type": "markdown",
      "metadata": {
        "id": "view-in-github",
        "colab_type": "text"
      },
      "source": [
        "<a href=\"https://colab.research.google.com/github/samsung-ai-course/6-7-edition/blob/main/Supervised%20Learning/Multi_Class_Prediction_of_Obesity_Risk.ipynb\" target=\"_parent\"><img src=\"https://colab.research.google.com/assets/colab-badge.svg\" alt=\"Open In Colab\"/></a>"
      ]
    },
    {
      "cell_type": "markdown",
      "source": [
        "# [Multi-Class Prediction of Obesity Risk](https://www.kaggle.com/competitions/playground-series-s4e2)\n",
        "\n",
        "### Dataset Description\n",
        "The dataset for this competition (both train and test) was generated from a deep learning model trained on the Obesity or CVD risk dataset. Feature distributions are close to, but not exactly the same, as the original. Feel free to use the original dataset as part of this competition, both to explore differences as well as to see whether incorporating the original in training improves model performance.\n",
        "\n",
        "Note: This dataset is particularly well suited for visualizations, clustering, and general EDA. Show off your skills!\n",
        "\n",
        "### Files\n",
        "train.csv - the training dataset; NObeyesdad is the categorical target\n",
        "\n",
        "test.csv - the test dataset; your objective is to predict the class of NObeyesdad for each row"
      ],
      "metadata": {
        "id": "WJHOfeAEVjFo"
      }
    },
    {
      "cell_type": "code",
      "execution_count": null,
      "metadata": {
        "id": "blQNob8sVGI8"
      },
      "outputs": [],
      "source": [
        "# Import necessary libraries\n",
        "import pandas as pd\n",
        "import numpy as np\n",
        "from sklearn.model_selection import train_test_split, GridSearchCV\n",
        "from sklearn.preprocessing import StandardScaler, LabelEncoder\n",
        "from sklearn.linear_model import LogisticRegression\n",
        "from sklearn.neighbors import KNeighborsClassifier\n",
        "from sklearn.naive_bayes import GaussianNB\n",
        "from sklearn.metrics import classification_report, accuracy_score, precision_score, recall_score\n",
        "\n",
        "train_data  = \"https://raw.githubusercontent.com/samsung-ai-course/6-7-edition/main/Supervised%20Learning/Datasets/playground-series-s4e2/train.csv\"\n",
        "test_data = \"https://raw.githubusercontent.com/samsung-ai-course/6-7-edition/main/Supervised%20Learning/Datasets/playground-series-s4e2/test.csv\"\n",
        "\n",
        "# Load the dataset\n",
        "train_data = pd.read_csv(train_data)"
      ]
    },
    {
      "cell_type": "code",
      "source": [
        "train_data.head()"
      ],
      "metadata": {
        "id": "G0QFIzwdXGr6"
      },
      "execution_count": null,
      "outputs": []
    },
    {
      "cell_type": "code",
      "source": [
        "train_data.info()"
      ],
      "metadata": {
        "id": "ICsK30lBXH5d"
      },
      "execution_count": null,
      "outputs": []
    },
    {
      "cell_type": "code",
      "source": [
        "train_data.describe()"
      ],
      "metadata": {
        "id": "FZQ0LsRsXI5d"
      },
      "execution_count": null,
      "outputs": []
    },
    {
      "cell_type": "code",
      "source": [
        "train_data[\"NObeyesdad\"].value_counts()"
      ],
      "metadata": {
        "id": "nSSLGBW5Zp6L"
      },
      "execution_count": null,
      "outputs": []
    },
    {
      "cell_type": "markdown",
      "source": [
        "Per usual, start with some EDA, bar charts and/or correlation"
      ],
      "metadata": {
        "id": "Rl813ybkWlpk"
      }
    },
    {
      "cell_type": "code",
      "source": [
        "#TODO (up to you what you do here)"
      ],
      "metadata": {
        "id": "hvYQnPrCWyKg"
      },
      "execution_count": null,
      "outputs": []
    },
    {
      "cell_type": "markdown",
      "source": [
        "Now pre-process and perform feature engineering.\n",
        "\n",
        "P.s Use at least 5 features."
      ],
      "metadata": {
        "id": "E_km6KbYW3la"
      }
    },
    {
      "cell_type": "code",
      "source": [
        "#p.s this is just an implementation suggestion, feel free to split it into smaller steps\n",
        "def preprocess_data(data):\n",
        "    \"\"\"\n",
        "    Preprocess the data by handling categorical values and scaling features.\n",
        "    \"\"\"\n",
        "    # Encode features and label\n",
        "    # TODO\n",
        "\n",
        "    # Separate features and target\n",
        "    X = #TODO\n",
        "    y = #TODO\n",
        "\n",
        "    # Scale features\n",
        "    # TODO\n",
        "    # p.s some algorithms dont 'gain' much from scaling\n",
        "\n",
        "    return X, y\n",
        "\n",
        "# Preprocess training data\n",
        "X, y = preprocess_data(train_data)"
      ],
      "metadata": {
        "id": "v0nDnY6gXBx4"
      },
      "execution_count": null,
      "outputs": []
    },
    {
      "cell_type": "markdown",
      "source": [
        "Its training time i.e hyperparameter search, cross validation and evaluation.\n",
        "\n",
        "1. [Logistic Regression](https://scikit-learn.org/1.5/modules/generated/sklearn.linear_model.LogisticRegression.html) - with [OVR](https://scikit-learn.org/1.5/modules/generated/sklearn.multiclass.OneVsRestClassifier.html) and [OVO](https://scikit-learn.org/stable/modules/generated/sklearn.multiclass.OneVsOneClassifier.html)\n",
        "2. KNN\n",
        "3. Naive-Bayes\n",
        "\n",
        "P.s read the documentation"
      ],
      "metadata": {
        "id": "T_AcpfrsWzfX"
      }
    },
    {
      "cell_type": "code",
      "source": [
        "# Preprocess training data\n",
        "X, y = preprocess_data(train_data)\n",
        "\n",
        "# Split into train and validation sets\n",
        "X_train, X_val, y_train, y_val = train_test_split(X, y, test_size=0.2, random_state=42)\n",
        "#Note: what about data leakage ? Is something wrong here?\n",
        "\n",
        "#Remember to do hyperparameter search for example with https://scikit-learn.org/stable/modules/generated/sklearn.model_selection.GridSearchCV.html\n",
        "\n",
        "y_pred_log_reg = #TOOD\n",
        "y_pred_knn = #TODO\n",
        "y_pred_nb = #TODO\n"
      ],
      "metadata": {
        "id": "_t9DF_TsYBrJ"
      },
      "execution_count": null,
      "outputs": []
    },
    {
      "cell_type": "code",
      "source": [
        "# Evaluation Summary\n",
        "def evaluate_model(y_true, y_pred, model_name):\n",
        "    print(f\"\\nEvaluation Metrics for {model_name}:\")\n",
        "    print(classification_report(y_val, y_pred_nb))\n",
        "    print(f\"Accuracy: {accuracy_score(y_true, y_pred):.2f}\")\n",
        "    print(f\"Precision: {precision_score(y_true, y_pred, average='weighted'):.2f}\")\n",
        "    print(f\"Recall: {recall_score(y_true, y_pred, average='weighted'):.2f}\")\n",
        "\n",
        "evaluate_model(y_val, y_pred_log_reg, \"Logistic Regression\")\n",
        "evaluate_model(y_val, y_pred_knn, \"KNN\")\n",
        "evaluate_model(y_val, y_pred_nb, \"Naive Bayes\")"
      ],
      "metadata": {
        "id": "Qp94RUiCWFkK"
      },
      "execution_count": null,
      "outputs": []
    },
    {
      "cell_type": "markdown",
      "source": [
        "## Discussion\n",
        "1. Do we have a balanced dataset?\n",
        "2. Which model is more balanced?\n",
        "3. Any class trumps the rest?"
      ],
      "metadata": {
        "id": "65rGzs6mZdYh"
      }
    },
    {
      "cell_type": "markdown",
      "source": [
        "Awesome work!\n",
        "\n",
        "Try to submit your best results to the official kaggle competition! Pay close attention to the sample submission for it to be a valid submission."
      ],
      "metadata": {
        "id": "POqc8_9gViaR"
      }
    }
  ]
}